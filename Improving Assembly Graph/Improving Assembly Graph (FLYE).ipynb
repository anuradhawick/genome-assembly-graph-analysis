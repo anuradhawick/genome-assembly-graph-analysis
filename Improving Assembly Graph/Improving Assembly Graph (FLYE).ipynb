{
 "cells": [
  {
   "cell_type": "markdown",
   "metadata": {},
   "source": [
    "# Improving the Graph\n",
    "\n",
    "## Steps\n",
    "\n",
    "* Get the contigs and calculate the coverage\n",
    "    * Align the contigs to reads using Minimap2\n",
    "    * Sort the aligments using Samtools\n",
    "    * Obtain the dept of each contig position using Samtools depth\n",
    "\n",
    "* Get the coverage of links in the graph\n",
    "    * For each link, obtain the connection sequence by connecting the latter 50% of first contig with first 50% of the next contig\n",
    "    * Obtain the coverage as in the same way above"
   ]
  },
  {
   "cell_type": "markdown",
   "metadata": {},
   "source": [
    "## Extracting Contigs, Links and Connection Contigs from the GFA file"
   ]
  },
  {
   "cell_type": "code",
   "execution_count": 8,
   "metadata": {},
   "outputs": [],
   "source": [
    "![ ! -e 'links' ] && mkdir 'links'\n",
    "![ ! -e 'contigs' ] && mkdir 'contigs'\n",
    "![ ! -e 'mappings' ] && mkdir 'mappings'\n",
    "\n",
    "\n",
    "import gfapy as gf\n",
    "from Bio.Seq import Seq\n",
    "from Bio.SeqRecord import SeqRecord\n",
    "from Bio.Alphabet import DNAAlphabet\n",
    "from Bio import SeqIO\n",
    "\n",
    "gfa = gf.Gfa.from_file('./graphs/assembly_graph.gfa')\n",
    "\n",
    "segments = {}\n",
    "contig_lengths = {}\n",
    "\n",
    "\n",
    "def get_aligning_sequences(s1, o1, s2, o2):\n",
    "    seq1 = Seq(s1)\n",
    "    seq2 = Seq(s2)\n",
    "\n",
    "    if (o1 == '-'):\n",
    "        seq1 = seq1.reverse_complement()\n",
    "    \n",
    "    if (o2 == '-'):\n",
    "        seq2 = seq2.reverse_complement()\n",
    "\n",
    "    return seq1, seq2\n",
    "\n",
    "for x in gfa.segments:\n",
    "    segments[x.name] = x\n",
    "    contig_lengths[x.name] = len(x.sequence)\n",
    "    record1 = SeqRecord(Seq(x.sequence, DNAAlphabet),\n",
    "                        id=x.name, description=\"Contig name=\"+x.name)\n",
    "    SeqIO.write(record1, \"./contigs/\" + x.name, \"fasta\")\n",
    "    \n",
    "    \n",
    "\n",
    "for x in gfa.dovetails:\n",
    "    seq1, seq2 = get_aligning_sequences(x.from_segment.sequence, x.from_orient, x.to_segment.sequence, x.to_orient)\n",
    "\n",
    "    idstr = x.from_segment.name + x.from_orient + x.to_segment.name + x.to_orient\n",
    "#   TODO check if we need to get half or a weighted amount considering the read lengths\n",
    "    record = SeqRecord(seq1[round(-1*len(seq1)/2)::] + seq2[0:int(len(seq2)/2)],\n",
    "                        id=idstr, description=\"\")\n",
    "\n",
    "    SeqIO.write(record, \"./links/\"+idstr, \"fasta\")\n"
   ]
  },
  {
   "cell_type": "markdown",
   "metadata": {},
   "source": [
    "# Computing Coverage of Links and Contigs"
   ]
  },
  {
   "cell_type": "markdown",
   "metadata": {},
   "source": [
    "## Function to Obtain Coverage of Contigs"
   ]
  },
  {
   "cell_type": "code",
   "execution_count": 9,
   "metadata": {},
   "outputs": [],
   "source": [
    "from pathlib import Path\n",
    "\n",
    "def compute_contig_coverage(folder):\n",
    "    paths = Path(folder).glob('**/*')\n",
    "    readspath = \"../Assembly/Sampled Reads/\"\n",
    "\n",
    "    coverage_dict = {}\n",
    "\n",
    "    for p in [str(p) for p in paths]:\n",
    "        fname = p.split(\"/\").pop()\n",
    "        print(\"INFO::Inspecting path = \" + p)\n",
    "\n",
    "        !minimap2 -a \"$p\" \"$readspath\"sd_0004.fastq.gz > out.txt\n",
    "        !samtools sort out.txt > out.sorted.txt\n",
    "        !samtools depth out.sorted.txt > out.txt\n",
    "\n",
    "        tot = !cut -f3 out.txt | paste -sd+ | bc\n",
    "        lines = !wc -l out.txt\n",
    "\n",
    "        tot = float(tot[0])\n",
    "        lines = float(lines[0].split()[0])\n",
    "\n",
    "        coverage = tot/lines\n",
    "        !rm out.txt\n",
    "        !rm out.sorted.txt\n",
    "\n",
    "        coverage_dict[fname] = coverage\n",
    "    return coverage_dict"
   ]
  },
  {
   "cell_type": "code",
   "execution_count": 11,
   "metadata": {},
   "outputs": [
    {
     "name": "stdout",
     "output_type": "stream",
     "text": [
      "INFO::Inspecting path = contigs/contig_3\n",
      "[M::mm_idx_gen::0.042*1.02] collected minimizers\n",
      "[M::mm_idx_gen::0.052*1.40] sorted minimizers\n",
      "[M::main::0.052*1.40] loaded/built the index for 1 target sequence(s)\n",
      "[M::mm_mapopt_update::0.056*1.37] mid_occ = 3\n",
      "[M::mm_idx_stat] kmer size: 15; skip: 10; is_hpc: 0; #seq: 1\n",
      "[M::mm_idx_stat::0.059*1.35] distinct minimizers: 325791 (99.89% are singletons); average occurrences: 1.001; average spacing: 5.363\n",
      "[M::worker_pipeline::10.176*2.39] mapped 19248 sequences\n",
      "[M::main] Version: 2.14-r886-dirty\n",
      "[M::main] CMD: minimap2 -a contigs/contig_3 ../Assembly/Sampled Reads/sd_0004.fastq.gz\n",
      "[M::main] Real time: 10.202 sec; CPU: 24.393 sec; Peak RSS: 0.493 GB\n",
      "INFO::Inspecting path = contigs/contig_2\n",
      "[M::mm_idx_gen::0.048*1.02] collected minimizers\n",
      "[M::mm_idx_gen::0.058*1.37] sorted minimizers\n",
      "[M::main::0.058*1.37] loaded/built the index for 1 target sequence(s)\n",
      "[M::mm_mapopt_update::0.063*1.34] mid_occ = 3\n",
      "[M::mm_idx_stat] kmer size: 15; skip: 10; is_hpc: 0; #seq: 1\n",
      "[M::mm_idx_stat::0.067*1.32] distinct minimizers: 372344 (99.87% are singletons); average occurrences: 1.001; average spacing: 5.364\n",
      "[M::worker_pipeline::11.216*2.45] mapped 19248 sequences\n",
      "[M::main] Version: 2.14-r886-dirty\n",
      "[M::main] CMD: minimap2 -a contigs/contig_2 ../Assembly/Sampled Reads/sd_0004.fastq.gz\n",
      "[M::main] Real time: 11.221 sec; CPU: 27.503 sec; Peak RSS: 0.503 GB\n",
      "INFO::Inspecting path = contigs/contig_1\n",
      "[M::mm_idx_gen::0.039*1.04] collected minimizers\n",
      "[M::mm_idx_gen::0.047*1.34] sorted minimizers\n",
      "[M::main::0.047*1.34] loaded/built the index for 1 target sequence(s)\n",
      "[M::mm_mapopt_update::0.048*1.33] mid_occ = 3\n",
      "[M::mm_idx_stat] kmer size: 15; skip: 10; is_hpc: 0; #seq: 1\n",
      "[M::mm_idx_stat::0.049*1.33] distinct minimizers: 116663 (99.96% are singletons); average occurrences: 1.000; average spacing: 5.355\n",
      "[M::worker_pipeline::8.432*2.28] mapped 19248 sequences\n",
      "[M::main] Version: 2.14-r886-dirty\n",
      "[M::main] CMD: minimap2 -a contigs/contig_1 ../Assembly/Sampled Reads/sd_0004.fastq.gz\n",
      "[M::main] Real time: 8.434 sec; CPU: 19.202 sec; Peak RSS: 0.481 GB\n",
      "{'contig_3': 49.193007481570504, 'contig_2': 51.34579254187656, 'contig_1': 99.67630348208557}\n"
     ]
    }
   ],
   "source": [
    "# Running Coverage Calculation for Contigs\n",
    "\n",
    "contig_coverage = compute_contig_coverage(\"./contigs/\")\n",
    "\n",
    "print(contig_coverage)"
   ]
  },
  {
   "cell_type": "markdown",
   "metadata": {},
   "source": [
    "## Function to Obtain Coverage of Links"
   ]
  },
  {
   "cell_type": "code",
   "execution_count": 24,
   "metadata": {},
   "outputs": [],
   "source": [
    "import re\n",
    "import numpy as np\n",
    "import matplotlib.pyplot as plt\n",
    "\n",
    "def get_match_from_cigar(cigar):\n",
    "    matches = re.findall(r'(\\d+)M', cigar)\n",
    "    misses = re.findall(r'(\\d+)H', cigar)\n",
    "    deletions = re.findall(r'(\\d+)D', cigar)\n",
    "    insertions = re.findall(r'(\\d+)I', cigar)\n",
    "    \n",
    "    return sum(map(int, matches)), sum(map(int, misses)), sum(map(int, deletions)), sum(map(int, insertions))\n",
    "    \n",
    "\n",
    "def obtain_relevant_mappings(mapping_file, output_file, contig1_length, contig2_length):\n",
    "    print (\"INFO:: Filtering irrelavant maps\")\n",
    "    with open(output_file, 'w+') as outf:\n",
    "        with open(mapping_file, 'r') as mapf:\n",
    "            line_o = mapf.readline()\n",
    "            line = line_o.split()\n",
    "            # consume headers\n",
    "            while line_o[0] == \"@\":\n",
    "                outf.write(line_o)\n",
    "                line_o = mapf.readline()\n",
    "                line = line_o.split()\n",
    "            while line_o:\n",
    "                # mapping attributes\n",
    "                pos = int(line[3])\n",
    "\n",
    "                if pos == 0: \n",
    "                    line_o = mapf.readline()\n",
    "                    line = line_o.split()\n",
    "                    continue # no match found\n",
    "                else:\n",
    "                    # match found\n",
    "                    matches, misses, deletions, insertions = get_match_from_cigar(line[5])\n",
    "                    \n",
    "                    # ensure mappings including both links are taken\n",
    "                    match_starts_contig1 = (pos-1) < contig1_length / 2\n",
    "                    match_ends_contig2 = sum([matches, misses, deletions, insertions]) + pos > contig1_length / 2\n",
    "\n",
    "                    # if matches are from both links it is a valid mapping\n",
    "                    if match_starts_contig1 and match_ends_contig2: # and matches / (matches + misses + deletions + insertions) > 0.9:\n",
    "                        outf.write(line_o)\n",
    "                \n",
    "                line_o = mapf.readline()\n",
    "                line = line_o.split()\n",
    "    print (\"INFO:: Done filtering irrelavant maps\")\n",
    "    \n",
    "def get_coverage_from_file_name(fname):\n",
    "    content = re.split('\\+|\\-',fname)\n",
    "    valid_content = []\n",
    "    \n",
    "    for x in content:\n",
    "        if len(x.strip()) > 0:\n",
    "            valid_content.append(x.strip())\n",
    "    \n",
    "    return contig_coverage[valid_content[0]], contig_coverage[valid_content[1]]\n",
    "    \n",
    "def compute_link_coverage(folder, read_coverage=50):\n",
    "    paths = Path(folder).glob('**/*')\n",
    "    readspath = \"../Assembly/Sampled Reads/\"\n",
    "\n",
    "    coverage_dict = {}\n",
    "\n",
    "    for p in [str(p) for p in paths]:\n",
    "        fname = p.split(\"/\").pop()\n",
    "        \n",
    "        c1_len, c2_len = get_coverage_from_file_name(fname)\n",
    "        \n",
    "        print(\"INFO::Inspecting link = \" + p)\n",
    "\n",
    "        !minimap2 -a \"$p\" \"$readspath\"sd_0004.fastq.gz > unfiltered.out.txt\n",
    "        \n",
    "        obtain_relevant_mappings('unfiltered.out.txt', 'filtered.out.txt', c1_len, c2_len)\n",
    "                \n",
    "        !samtools sort filtered.out.txt > filtered.out.sorted.txt\n",
    "        \n",
    "        basewise_coverage = !samtools depth filtered.out.sorted.txt\n",
    "        \n",
    "        data = [int(x.split()[2]) for x in basewise_coverage]\n",
    "        npd = np.array(data)\n",
    "\n",
    "        n, bins, patches = plt.hist(x=npd, bins='auto', color='#0504aa',\n",
    "                            alpha=0.7, rwidth=0.85)\n",
    "        plt.grid(axis='y', alpha=0.75)\n",
    "        plt.xlabel('Coverage')\n",
    "        plt.ylabel('Occurances')\n",
    "        plt.title('Coverage Distribution')\n",
    "        maxfreq = n.max()\n",
    "        # Set a clean upper y-axis limit.\n",
    "        plt.ylim(ymax=np.ceil(maxfreq / 10) * 10 if maxfreq % 10 else maxfreq + 10)\n",
    "        plt.show()\n",
    "        plt.figure()\n",
    "        mean = npd.mean() * 2 # because we consider half's coverage for the whole contigs (correction)\n",
    "        std = npd.std()\n",
    "        \n",
    "        print(\"Mean\", mean, \"Std\", std)\n",
    "\n",
    "        !rm unfiltered.out.txt\n",
    "        !rm filtered.out.txt\n",
    "        !rm filtered.out.sorted.txt\n",
    "\n",
    "        coverage_dict[fname] = mean\n",
    "    return coverage_dict"
   ]
  },
  {
   "cell_type": "code",
   "execution_count": 25,
   "metadata": {
    "scrolled": false
   },
   "outputs": [
    {
     "name": "stdout",
     "output_type": "stream",
     "text": [
      "INFO::Inspecting link = links/contig_1-contig_3-\n",
      "[M::mm_idx_gen::0.030*1.02] collected minimizers\n",
      "[M::mm_idx_gen::0.037*1.40] sorted minimizers\n",
      "[M::main::0.037*1.40] loaded/built the index for 1 target sequence(s)\n",
      "[M::mm_mapopt_update::0.041*1.37] mid_occ = 3\n",
      "[M::mm_idx_stat] kmer size: 15; skip: 10; is_hpc: 0; #seq: 1\n",
      "[M::mm_idx_stat::0.043*1.35] distinct minimizers: 221062 (99.93% are singletons); average occurrences: 1.001; average spacing: 5.366\n",
      "[M::worker_pipeline::9.457*2.35] mapped 19248 sequences\n",
      "[M::main] Version: 2.14-r886-dirty\n",
      "[M::main] CMD: minimap2 -a links/contig_1-contig_3- ../Assembly/Sampled Reads/sd_0004.fastq.gz\n",
      "[M::main] Real time: 9.477 sec; CPU: 22.247 sec; Peak RSS: 0.495 GB\n",
      "INFO:: Filtering irrelavant maps\n",
      "INFO:: Done filtering irrelavant maps\n"
     ]
    },
    {
     "data": {
      "image/png": "[encoded data removed]",
      "text/plain": [
       "<Figure size 432x288 with 1 Axes>"
      ]
     },
     "metadata": {},
     "output_type": "display_data"
    },
    {
     "name": "stdout",
     "output_type": "stream",
     "text": [
      "Mean 53.56647667299979 Std 28.849391730761702\n",
      "INFO::Inspecting link = links/contig_1+contig_1+\n",
      "[M::mm_idx_gen::0.020*1.06] collected minimizers\n",
      "[M::mm_idx_gen::0.025*1.49] sorted minimizers\n",
      "[M::main::0.025*1.49] loaded/built the index for 1 target sequence(s)\n",
      "[M::mm_mapopt_update::0.027*1.46] mid_occ = 3\n",
      "[M::mm_idx_stat] kmer size: 15; skip: 10; is_hpc: 0; #seq: 1\n",
      "[M::mm_idx_stat::0.028*1.44] distinct minimizers: 116659 (99.96% are singletons); average occurrences: 1.000; average spacing: 5.355\n",
      "[M::worker_pipeline::8.347*2.28] mapped 19248 sequences\n",
      "[M::main] Version: 2.14-r886-dirty\n",
      "[M::main] CMD: minimap2 -a links/contig_1+contig_1+ ../Assembly/Sampled Reads/sd_0004.fastq.gz\n",
      "[M::main] Real time: 8.349 sec; CPU: 19.054 sec; Peak RSS: 0.495 GB\n",
      "INFO:: Filtering irrelavant maps\n",
      "INFO:: Done filtering irrelavant maps\n"
     ]
    },
    {
     "data": {
      "image/png": "[encoded data removed]",
      "text/plain": [
       "<Figure size 432x288 with 1 Axes>"
      ]
     },
     "metadata": {},
     "output_type": "display_data"
    },
    {
     "name": "stdout",
     "output_type": "stream",
     "text": [
      "Mean 61.58660884972257 Std 29.683107970658213\n",
      "INFO::Inspecting link = links/contig_3+contig_2+\n",
      "[M::mm_idx_gen::0.045*1.01] collected minimizers\n",
      "[M::mm_idx_gen::0.055*1.36] sorted minimizers\n",
      "[M::main::0.055*1.36] loaded/built the index for 1 target sequence(s)\n",
      "[M::mm_mapopt_update::0.059*1.33] mid_occ = 3\n",
      "[M::mm_idx_stat] kmer size: 15; skip: 10; is_hpc: 0; #seq: 1\n",
      "[M::mm_idx_stat::0.062*1.31] distinct minimizers: 348807 (99.88% are singletons); average occurrences: 1.001; average spacing: 5.367\n",
      "[M::worker_pipeline::10.801*2.43] mapped 19248 sequences\n",
      "[M::main] Version: 2.14-r886-dirty\n",
      "[M::main] CMD: minimap2 -a links/contig_3+contig_2+ ../Assembly/Sampled Reads/sd_0004.fastq.gz\n",
      "[M::main] Real time: 10.806 sec; CPU: 26.243 sec; Peak RSS: 0.509 GB\n",
      "INFO:: Filtering irrelavant maps\n",
      "INFO:: Done filtering irrelavant maps\n"
     ]
    },
    {
     "data": {
      "image/png": "[encoded data removed]",
      "text/plain": [
       "<Figure size 432x288 with 1 Axes>"
      ]
     },
     "metadata": {},
     "output_type": "display_data"
    },
    {
     "name": "stdout",
     "output_type": "stream",
     "text": [
      "Mean 29.84450134265909 Std 11.599474881589288\n",
      "INFO::Inspecting link = links/contig_1+contig_2+\n",
      "[M::mm_idx_gen::0.036*1.01] collected minimizers\n",
      "[M::mm_idx_gen::0.043*1.33] sorted minimizers\n",
      "[M::main::0.043*1.33] loaded/built the index for 1 target sequence(s)\n",
      "[M::mm_mapopt_update::0.046*1.31] mid_occ = 3\n",
      "[M::mm_idx_stat] kmer size: 15; skip: 10; is_hpc: 0; #seq: 1\n",
      "[M::mm_idx_stat::0.048*1.30] distinct minimizers: 241249 (98.56% are singletons); average occurrences: 1.014; average spacing: 5.363\n",
      "[M::worker_pipeline::10.158*2.40] mapped 19248 sequences\n",
      "[M::main] Version: 2.14-r886-dirty\n",
      "[M::main] CMD: minimap2 -a links/contig_1+contig_2+ ../Assembly/Sampled Reads/sd_0004.fastq.gz\n",
      "[M::main] Real time: 10.161 sec; CPU: 24.361 sec; Peak RSS: 0.505 GB\n",
      "INFO:: Filtering irrelavant maps\n",
      "INFO:: Done filtering irrelavant maps\n"
     ]
    },
    {
     "data": {
      "image/png": "[encoded data removed]",
      "text/plain": [
       "<Figure size 432x288 with 1 Axes>"
      ]
     },
     "metadata": {},
     "output_type": "display_data"
    },
    {
     "name": "stdout",
     "output_type": "stream",
     "text": [
      "Mean 61.58660884972257 Std 29.683107970658213\n",
      "{'contig_1-contig_3-': 53.56647667299979, 'contig_1+contig_1+': 61.58660884972257, 'contig_3+contig_2+': 29.84450134265909, 'contig_1+contig_2+': 61.58660884972257}\n"
     ]
    },
    {
     "data": {
      "text/plain": [
       "<Figure size 432x288 with 0 Axes>"
      ]
     },
     "metadata": {},
     "output_type": "display_data"
    }
   ],
   "source": [
    "# Running Coverage Calculation for Contigs and Links\n",
    "\n",
    "link_coverage = compute_link_coverage(\"./links/\")\n",
    "\n",
    "print(link_coverage)"
   ]
  },
  {
   "cell_type": "code",
   "execution_count": 38,
   "metadata": {},
   "outputs": [
    {
     "name": "stdout",
     "output_type": "stream",
     "text": [
      "{   'contig_1': 99.67630348208557,\n",
      "    'contig_2': 51.34579254187656,\n",
      "    'contig_3': 49.193007481570504}\n",
      "\n",
      "{   'contig_1+contig_1+': 61.58660884972257,\n",
      "    'contig_1+contig_2+': 61.58660884972257,\n",
      "    'contig_1-contig_3-': 53.56647667299979,\n",
      "    'contig_3+contig_2+': 29.84450134265909}\n",
      "\n"
     ]
    }
   ],
   "source": [
    "import pprint\n",
    "\n",
    "pp = pprint.PrettyPrinter(indent=4)\n",
    "\n",
    "pp.pprint(contig_coverage)\n",
    "print()\n",
    "pp.pprint(link_coverage)\n"
   ]
  },
  {
   "cell_type": "code",
   "execution_count": 42,
   "metadata": {},
   "outputs": [
    {
     "name": "stdout",
     "output_type": "stream",
     "text": [
      "['contig_3+', '+', 'contig_2+', '+']\n"
     ]
    }
   ],
   "source": [
    "# resolution of significant link cycles\n",
    "# detect the cycle\n",
    "#    get the coverage for link\n",
    "#    if the link_coverage = read_covereage => contig x 2 and so on as it becomes multiples\n",
    "#    contiguous occurances of the contig = link_coverage/read_coverage + 1\n",
    "read_coverage = 50\n",
    "\n",
    "def name_decomposer(link_name):\n",
    "    decomposed = []\n",
    "    temp = \"\"\n",
    "    \n",
    "    for c in link_name:\n",
    "        temp += c\n",
    "        if c == \"+\" or c == \"-\":\n",
    "            contig_name = temp\n",
    "            temp = \"\"\n",
    "            decomposed.extend([contig_name, c])\n",
    "    return decomposed\n",
    "\n",
    "def round_to_coverage(x, base=read_coverage):\n",
    "    return int(base * round(float(x)/base))\n",
    "\n",
    "def resolve_links(links_array):\n",
    "    resolved_links = []\n",
    "    for link in links_array:\n",
    "        if not True:\n",
    "            resolved_links.append(link)\n",
    "        link_coverage = link_coverage[link]\n",
    "        ratio = round_to_coverage(link_coverage) / read_coverage\n",
    "        \n",
    "        double_repeats = int(ratio / 2) + 1 \n",
    "        singlets = ratio % 2\n",
    "        \n",
    "        for repeat in double_repeats:\n",
    "            resolve_links.append(link)\n",
    "        \n",
    "            "
   ]
  },
  {
   "cell_type": "code",
   "execution_count": 235,
   "metadata": {},
   "outputs": [],
   "source": [
    "# Corresponds to Nodes of the Graph\n",
    "class Contig:\n",
    "    def __init__(self, name):\n",
    "        # identified by the k-mers\n",
    "        self._name = name\n",
    "        self._next_contigs = []\n",
    "        self._previous_contigs = []\n",
    "        \n",
    "    def add_next(self, contig):\n",
    "        self._next_contigs.append(contig)\n",
    "    \n",
    "    def add_previous(self, contig):\n",
    "        self._previous_contigs.append(contig)\n",
    "        \n",
    "    def has_parent(self):\n",
    "        return len(self._previous_contigs) != 0\n",
    "    \n",
    "    def has_next(self):\n",
    "        return len(self._next_contigs) != 0\n",
    "        \n",
    "class Graph:\n",
    "    def __init__(self):\n",
    "        self._links = []\n",
    "        self._parent_index = {} # links whose parent is the key\n",
    "        self._child_index = {} # links whose child is the key\n",
    "    \n",
    "    def add_link(self, parent, child, parent_orientation, child_orientation):\n",
    "        # detect feasible link\n",
    "        c_parent = child\n",
    "        c_child = parent\n",
    "        \n",
    "        if parent_orientation == '+' : c_parent_orientation = '-'\n",
    "        else: c_parent_orientation = '+'\n",
    "        \n",
    "        if child_orientation == '+' : c_child_orientation = '-'\n",
    "        else: c_child_orientation = '+'\n",
    "            \n",
    "        # identify potential child and orientation\n",
    "        _link_added = False\n",
    "        \n",
    "        for link in self._links:\n",
    "            # try adding as parent\n",
    "            if link._parent == child and link._parent_orientation == child_orientation:\n",
    "                self._links.append(Link(parent, child, parent_orientation, child_orientation))\n",
    "                _link_added = True\n",
    "                break\n",
    "            elif link._parent == c_child and link._parent_orientation == c_child_orientation:\n",
    "                self._links.append(Link(c_parent, c_child, c_parent_orientation, c_child_orientation))\n",
    "                _link_added = True\n",
    "                break\n",
    "            \n",
    "            # try adding as child\n",
    "            elif link._child == parent and link._child_orientation == parent_orientation:\n",
    "                self._links.append(Link(parent, child, parent_orientation, child_orientation))\n",
    "                _link_added = True\n",
    "                break\n",
    "            elif link._child == c_parent and link._child_orientation == c_parent_orientation:\n",
    "                self._links.append(Link(c_parent, c_child, c_parent_orientation, c_child_orientation))\n",
    "                _link_added = True\n",
    "                break\n",
    "                \n",
    "        if not _link_added: \n",
    "            # this happens either at beginning or when neighbours have not found YET or when there is an isolated link\n",
    "            # always choose the positive paths\n",
    "            # TODO investigate if its possible to have a Link with +- both at the same time\n",
    "            if parent_orientation == '+' or child_orientation == '+':\n",
    "                self._links.append(Link(parent, child, parent_orientation, child_orientation))\n",
    "            else:\n",
    "                self._links.append(Link(c_parent, c_child, c_parent_orientation, c_child_orientation))\n",
    "                    \n",
    "    def index_graph(self):\n",
    "        # Assuming the graph has been fully resolved, this could be a list of possible Links if theres branching\n",
    "        # TODO Replace with a List instead of direct assignment\n",
    "        for link in self._links:\n",
    "            self._parent_index[link._parent] = link\n",
    "            self._child_index[link._child] = link\n",
    "    \n",
    "    def deduce_proper_linkage(self):\n",
    "        # TODO make this a class level variable if needed\n",
    "        # TODO this might not be a list like this; if there is branching, this might yet be a graph\n",
    "        _linkage = [self._links[0]]\n",
    "        \n",
    "        _linkage_extended = True\n",
    "        \n",
    "        while _linkage_extended:\n",
    "            _linkage_extended = False\n",
    "            \n",
    "            # extending last\n",
    "            _last = _linkage[-1]\n",
    "            \n",
    "            if _last._child in self._parent_index:\n",
    "                _next_link = self._parent_index[_last._child]\n",
    "                _linkage.append(_next_link)\n",
    "                del self._parent_index[_last._child]\n",
    "                _linkage_extended = True\n",
    "                \n",
    "            # extending the first\n",
    "            _first = _linkage[0]\n",
    "            if _first._parent in self._child_index:\n",
    "                _next_link = self._child_index[_first._parent]\n",
    "                _linkage.append(_next_link)\n",
    "                del self._child_index[_first._parent]\n",
    "                _linkage_extended = True\n",
    "                \n",
    "        print(_linkage)\n",
    "                \n",
    "            \n",
    "        \n",
    "\n",
    "    \n",
    "    \n",
    "    "
   ]
  },
  {
   "cell_type": "code",
   "execution_count": 236,
   "metadata": {},
   "outputs": [
    {
     "name": "stdout",
     "output_type": "stream",
     "text": [
      "{'contig_1': <__main__.Link object at 0x7fc7c58e3240>, 'contig_2': <__main__.Link object at 0x7fc7c58e3828>} \n",
      "\n",
      " {'contig_1': <__main__.Link object at 0x7fc7c58e36a0>, 'contig_3': <__main__.Link object at 0x7fc7c58e3828>}\n",
      "[<__main__.Link object at 0x7fc7c58e3eb8>, <__main__.Link object at 0x7fc7c58e36a0>, <__main__.Link object at 0x7fc7c58e3240>]\n"
     ]
    }
   ],
   "source": [
    "linkage_graph = Graph()\n",
    "\n",
    "'''\n",
    "contig_1+contig_1+\n",
    "contig_1+contig_2+\n",
    "contig_1-contig_3-\n",
    "contig_3+contig_2+\n",
    "'''\n",
    "\n",
    "linkage_graph.add_link('contig_1', 'contig_1', '+', '+')\n",
    "linkage_graph.add_link('contig_1', 'contig_2', '+', '+')\n",
    "linkage_graph.add_link('contig_1', 'contig_3', '-', '-')\n",
    "linkage_graph.add_link('contig_3', 'contig_2', '+', '+')\n",
    "\n",
    "linkage_graph.index_graph()\n",
    "\n",
    "print(linkage_graph._child_index, '\\n\\n', linkage_graph._parent_index)\n",
    "\n",
    "linkage_graph.deduce_proper_linkage()"
   ]
  }
 ],
 "metadata": {
  "kernelspec": {
   "display_name": "Python 3",
   "language": "python",
   "name": "python3"
  },
  "language_info": {
   "codemirror_mode": {
    "name": "ipython",
    "version": 3
   },
   "file_extension": ".py",
   "mimetype": "text/x-python",
   "name": "python",
   "nbconvert_exporter": "python",
   "pygments_lexer": "ipython3",
   "version": "3.6.5"
  }
 },
 "nbformat": 4,
 "nbformat_minor": 2
}
