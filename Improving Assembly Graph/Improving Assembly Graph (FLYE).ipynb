{
 "cells": [
  {
   "cell_type": "markdown",
   "metadata": {},
   "source": [
    "# Improving the Graph\n",
    "\n",
    "## Steps\n",
    "\n",
    "* Get the contigs and calculate the coverage\n",
    "    * Align the contigs to reads using Minimap2\n",
    "    * Sort the aligments using Samtools\n",
    "    * Obtain the dept of each contig position using Samtools depth\n",
    "\n",
    "* Get the coverage of links in the graph\n",
    "    * For each link, obtain the connection sequence by connecting the latter 50% of first contig with first 50% of the next contig\n",
    "    * Obtain the coverage as in the same way above"
   ]
  },
  {
   "cell_type": "code",
   "execution_count": null,
   "metadata": {},
   "outputs": [],
   "source": [
    "\n",
    "\n",
    "\n",
    "import gfapy as gf\n",
    "from Bio.Seq import Seq\n",
    "from Bio.SeqRecord import SeqRecord\n",
    "from Bio.Alphabet import DNAAlphabet\n",
    "from Bio import SeqIO\n",
    "\n",
    "gfa = gf.Gfa.from_file('./graphs/assembly_graph.gfa')\n",
    "\n",
    "segments = {}\n",
    "\n",
    "\n",
    "def get_aligning_sequences(s1, o1, s2, o2):\n",
    "    seq1 = Seq(s1)\n",
    "    seq2 = Seq(s2)\n",
    "\n",
    "    if (o1 == '-'):\n",
    "        seq1 = seq1.reverse_complement()\n",
    "    \n",
    "    if (o2 == '-'):\n",
    "        seq2 = seq2.reverse_complement()\n",
    "\n",
    "    return seq1, seq2\n",
    "\n",
    "for x in gfa.segments:\n",
    "    segments[x.name] = x\n",
    "    record1 = SeqRecord(Seq(x.sequence, DNAAlphabet),\n",
    "                        id=x.name, description=\"Contig name=\"+x.name)\n",
    "    SeqIO.write(record1, \"./contigs/\" + x.name, \"fasta\")\n",
    "\n",
    "for x in gfa.dovetails:\n",
    "    seq1, seq2 = get_aligning_sequences(x.from_segment.sequence, x.from_orient, x.to_segment.sequence, x.to_orient)\n",
    "\n",
    "    idstr = x.from_segment.name + \"|\" + x.from_orient + \"|\" + x.to_segment.name + \"|\" + x.to_orient\n",
    "    record = SeqRecord(seq1[round(-6000)::] + seq2[0:6000],\n",
    "                        id=idstr, description=\"\")\n",
    "\n",
    "    SeqIO.write(record, \"./links/\"+idstr, \"fasta\")"
   ]
  }
 ],
 "metadata": {
  "kernelspec": {
   "display_name": "Python 3",
   "language": "python",
   "name": "python3"
  },
  "language_info": {
   "codemirror_mode": {
    "name": "ipython",
    "version": 3
   },
   "file_extension": ".py",
   "mimetype": "text/x-python",
   "name": "python",
   "nbconvert_exporter": "python",
   "pygments_lexer": "ipython3",
   "version": "3.6.5"
  }
 },
 "nbformat": 4,
 "nbformat_minor": 2
}
