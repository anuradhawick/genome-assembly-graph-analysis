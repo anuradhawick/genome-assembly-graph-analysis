{
 "cells": [
  {
   "cell_type": "markdown",
   "metadata": {},
   "source": [
    "# Checking validity of SNP calling and haplotype phasing"
   ]
  },
  {
   "cell_type": "code",
   "execution_count": 1,
   "metadata": {
    "scrolled": true
   },
   "outputs": [],
   "source": [
    "# obtain all contigs to one file\n",
    "project_name = \"simulated_1MB_hap\"\n",
    "![ -e \"$project_name\" ] && rm -r \"$project_name\"\n",
    "\n",
    "reference_genome = \"/media/anuradhawick/data/Experiments/Assembly_Graph/Assembly/Sampled_Gene_1MB_Hap/complete_genome.fa\"\n",
    "reads_path = '/media/anuradhawick/data/Experiments/Assembly_Graph/Assembly/Sampled_Gene_1MB_Hap/reads/all.fastq'\n",
    "\n",
    "\n",
    "flye_contigs = \"/media/anuradhawick/data/Experiments/Assembly_Graph/Haplotype_genome_assembly/assembly/flye/scaffolds.fasta\"\n",
    "canu_contigs = \"/media/anuradhawick/data/Experiments/Assembly_Graph/Haplotype_genome_assembly/assembly/canu/r1.contigs.fasta\""
   ]
  },
  {
   "cell_type": "code",
   "execution_count": 11,
   "metadata": {},
   "outputs": [
    {
     "name": "stdout",
     "output_type": "stream",
     "text": [
      "[M::mm_idx_gen::0.057*0.47] collected minimizers\n",
      "[M::mm_idx_gen::0.064*0.76] sorted minimizers\n",
      "[M::main::0.064*0.76] loaded/built the index for 1 target sequence(s)\n",
      "[M::mm_mapopt_update::0.067*0.77] mid_occ = 3\n",
      "[M::mm_idx_stat] kmer size: 15; skip: 10; is_hpc: 0; #seq: 1\n",
      "[M::mm_idx_stat::0.068*0.77] distinct minimizers: 186709 (99.93% are singletons); average occurrences: 1.001; average spacing: 5.352\n",
      "[M::worker_pipeline::9.194*2.42] mapped 4000 sequences\n",
      "[M::main] Version: 2.14-r886-dirty\n",
      "[M::main] CMD: minimap2 --cs -a /media/anuradhawick/data/Experiments/Assembly_Graph/Assembly/Sampled_Gene_1MB_Hap/sample_gen.fasta /media/anuradhawick/data/Experiments/Assembly_Graph/Assembly/Sampled_Gene_1MB_Hap/reads/all.fastq\n",
      "[M::main] Real time: 9.198 sec; CPU: 22.287 sec; Peak RSS: 0.204 GB\n"
     ]
    }
   ],
   "source": [
    "![ -e \"$project_name/raw\"/mappings ] && rm -r \"$project_name/raw\"/mappings\n",
    "![ -e \"$project_name/raw\"/snps ] && rm -r \"$project_name/raw\"/snps\n",
    "![ ! -e \"$project_name/raw\"/mappings ] && mkdir -p \"$project_name/raw\"/mappings \n",
    "![ ! -e \"$project_name/raw\"/snps ] && mkdir -p \"$project_name/raw\"/snps\n",
    "\n",
    "original_haplotype = '/media/anuradhawick/data/Experiments/Assembly_Graph/Assembly/Sampled_Gene_1MB_Hap/sample_gen.fasta'\n",
    "contigs_path = original_haplotype\n",
    "\n",
    "# Indexing and Mapping\n",
    "!minimap2 --cs -a $contigs_path $reads_path > $(pwd)/$project_name/raw/mappings/mapping.sam\n",
    "!samtools view -Sb $(pwd)/$project_name/raw/mappings/mapping.sam > $(pwd)/$project_name/raw/mappings/mapping.bam\n",
    "!samtools sort $(pwd)/$project_name/raw/mappings/mapping.bam > $(pwd)/$project_name/raw/mappings/mapping.sorted.bam\n",
    "!samtools index $(pwd)/$project_name/raw/mappings/mapping.sorted.bam\n",
    "\n",
    "# Phasing Methods\n",
    "!samtools mpileup -q 20 -Q 0 $project_name/raw/mappings/mapping.sorted.bam | python /media/anuradhawick/data/Tools/anaconda/anaconda3/lib/python3.6/site-packages/whatshap/simple_snp_caller.py --minabs 3 --minrel 0.25 --sample sample $contigs_path | awk '($1~/#/) || ($4~/[ACGT]/ && $5~/[ACGT]/)' > $(pwd)/$project_name/raw/snps/initial_call.vcf\n",
    "!whatshap genotype --ignore-read-groups --reference $contigs_path -o $(pwd)/$project_name/raw/snps/genotyped.vcf $(pwd)/$project_name/raw/snps/initial_call.vcf $project_name/raw/mappings/mapping.sorted.bam\n",
    "!whatshap phase --ignore-read-groups --reference $contigs_path -o $(pwd)/$project_name/raw/snps/phased.vcf $(pwd)/$project_name/raw/snps/genotyped.vcf $(pwd)/$project_name/raw/mappings/mapping.sorted.bam"
   ]
  }
 ],
 "metadata": {
  "kernelspec": {
   "display_name": "Python 3",
   "language": "python",
   "name": "python3"
  },
  "language_info": {
   "codemirror_mode": {
    "name": "ipython",
    "version": 3
   },
   "file_extension": ".py",
   "mimetype": "text/x-python",
   "name": "python",
   "nbconvert_exporter": "python",
   "pygments_lexer": "ipython3",
   "version": "3.6.8"
  }
 },
 "nbformat": 4,
 "nbformat_minor": 2
}
