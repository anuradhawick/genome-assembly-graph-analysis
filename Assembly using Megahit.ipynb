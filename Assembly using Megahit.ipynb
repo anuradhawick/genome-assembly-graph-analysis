{
 "cells": [
  {
   "cell_type": "markdown",
   "metadata": {},
   "source": [
    "# Running Assembly Using Megahit"
   ]
  },
  {
   "cell_type": "code",
   "execution_count": null,
   "metadata": {
    "scrolled": true
   },
   "outputs": [
    {
     "name": "stdout",
     "output_type": "stream",
     "text": [
      "15.532Gb memory in total.\n",
      "Using: 13.978Gb.\n",
      "MEGAHIT v1.1.3\n",
      "--- [Mon Nov  5 16:16:16 2018] Start assembly. Number of CPU threads 8 ---\n",
      "--- [Mon Nov  5 16:16:16 2018] Available memory: 16676945920, used: 15009251328\n",
      "--- [Mon Nov  5 16:16:16 2018] Converting reads to binaries ---\n",
      "b'    [read_lib_functions-inl.h  : 209]     Lib 0 (/media/anuradhawick/data/Experiments/Assembly Graph/Sampled Reads/all-in-one.fastq.gz): se, 76831 reads, 29879 max length'\n",
      "b'    [utils.h                   : 126]     Real: 15.9056\\tuser: 4.3336\\tsys: 0.5093\\tmaxrss: 134956'\n",
      "--- [Mon Nov  5 16:16:32 2018] k list: 21,29,39,59,79,99,119,141 ---\n",
      "--- [Mon Nov  5 16:16:32 2018] Extracting solid (k+1)-mers for k = 21 ---\n",
      "--- [Mon Nov  5 16:17:33 2018] Building graph for k = 21 ---\n",
      "--- [Mon Nov  5 16:17:36 2018] Assembling contigs from SdBG for k = 21 ---\n",
      "--- [Mon Nov  5 16:17:44 2018] Local assembling k = 21 ---\n",
      "--- [Mon Nov  5 16:18:10 2018] Extracting iterative edges from k = 21 to 29 ---\n",
      "--- [Mon Nov  5 16:18:28 2018] Building graph for k = 29 ---\n",
      "--- [Mon Nov  5 16:18:30 2018] Assembling contigs from SdBG for k = 29 ---\n",
      "--- [Mon Nov  5 16:18:38 2018] Local assembling k = 29 ---\n",
      "--- [Mon Nov  5 16:19:03 2018] Extracting iterative edges from k = 29 to 39 ---\n",
      "--- [Mon Nov  5 16:19:20 2018] Building graph for k = 39 ---\n",
      "--- [Mon Nov  5 16:19:21 2018] Assembling contigs from SdBG for k = 39 ---\n",
      "--- [Mon Nov  5 16:19:30 2018] Local assembling k = 39 ---\n",
      "--- [Mon Nov  5 16:19:56 2018] Extracting iterative edges from k = 39 to 59 ---\n",
      "--- [Mon Nov  5 16:20:12 2018] Building graph for k = 59 ---\n",
      "--- [Mon Nov  5 16:20:14 2018] Assembling contigs from SdBG for k = 59 ---\n",
      "--- [Mon Nov  5 16:20:24 2018] Local assembling k = 59 ---\n",
      "--- [Mon Nov  5 16:20:50 2018] Extracting iterative edges from k = 59 to 79 ---\n",
      "--- [Mon Nov  5 16:21:06 2018] Building graph for k = 79 ---\n",
      "--- [Mon Nov  5 16:21:08 2018] Assembling contigs from SdBG for k = 79 ---\n",
      "--- [Mon Nov  5 16:21:18 2018] Local assembling k = 79 ---\n",
      "--- [Mon Nov  5 16:21:45 2018] Extracting iterative edges from k = 79 to 99 ---\n"
     ]
    }
   ],
   "source": [
    "![ -e 'Out Megahit' ] && rm -r 'Out Megahit'\n",
    "!mkdir 'Out Megahit'\n",
    "\n",
    "!cd 'Out Megahit' && /media/anuradhawick/data/Tools/megahit/megahit \\\n",
    "-r '/media/anuradhawick/data/Experiments/Assembly Graph/Sampled Reads/all-in-one.fastq.gz'"
   ]
  }
 ],
 "metadata": {
  "kernelspec": {
   "display_name": "Python 3",
   "language": "python",
   "name": "python3"
  },
  "language_info": {
   "codemirror_mode": {
    "name": "ipython",
    "version": 3
   },
   "file_extension": ".py",
   "mimetype": "text/x-python",
   "name": "python",
   "nbconvert_exporter": "python",
   "pygments_lexer": "ipython3",
   "version": "3.6.5"
  }
 },
 "nbformat": 4,
 "nbformat_minor": 2
}
