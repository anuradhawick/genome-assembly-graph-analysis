{
 "cells": [
  {
   "cell_type": "markdown",
   "metadata": {},
   "source": [
    "# Running Assembly Using Megahit"
   ]
  },
  {
   "cell_type": "code",
   "execution_count": 6,
   "metadata": {
    "scrolled": false
   },
   "outputs": [
    {
     "name": "stdout",
     "output_type": "stream",
     "text": [
      "15.532Gb memory in total.\n",
      "Using: 13.978Gb.\n",
      "MEGAHIT v1.1.3\n",
      "--- [Mon Nov  5 16:16:16 2018] Start assembly. Number of CPU threads 8 ---\n",
      "--- [Mon Nov  5 16:16:16 2018] Available memory: 16676945920, used: 15009251328\n",
      "--- [Mon Nov  5 16:16:16 2018] Converting reads to binaries ---\n",
      "b'    [read_lib_functions-inl.h  : 209]     Lib 0 (/media/anuradhawick/data/Experiments/Assembly Graph/Sampled Reads/all-in-one.fastq.gz): se, 76831 reads, 29879 max length'\n",
      "b'    [utils.h                   : 126]     Real: 15.9056\\tuser: 4.3336\\tsys: 0.5093\\tmaxrss: 134956'\n",
      "--- [Mon Nov  5 16:16:32 2018] k list: 21,29,39,59,79,99,119,141 ---\n",
      "--- [Mon Nov  5 16:16:32 2018] Extracting solid (k+1)-mers for k = 21 ---\n",
      "--- [Mon Nov  5 16:17:33 2018] Building graph for k = 21 ---\n",
      "--- [Mon Nov  5 16:17:36 2018] Assembling contigs from SdBG for k = 21 ---\n",
      "--- [Mon Nov  5 16:17:44 2018] Local assembling k = 21 ---\n",
      "--- [Mon Nov  5 16:18:10 2018] Extracting iterative edges from k = 21 to 29 ---\n",
      "--- [Mon Nov  5 16:18:28 2018] Building graph for k = 29 ---\n",
      "--- [Mon Nov  5 16:18:30 2018] Assembling contigs from SdBG for k = 29 ---\n",
      "--- [Mon Nov  5 16:18:38 2018] Local assembling k = 29 ---\n",
      "--- [Mon Nov  5 16:19:03 2018] Extracting iterative edges from k = 29 to 39 ---\n",
      "--- [Mon Nov  5 16:19:20 2018] Building graph for k = 39 ---\n",
      "--- [Mon Nov  5 16:19:21 2018] Assembling contigs from SdBG for k = 39 ---\n",
      "--- [Mon Nov  5 16:19:30 2018] Local assembling k = 39 ---\n",
      "--- [Mon Nov  5 16:19:56 2018] Extracting iterative edges from k = 39 to 59 ---\n",
      "--- [Mon Nov  5 16:20:12 2018] Building graph for k = 59 ---\n",
      "--- [Mon Nov  5 16:20:14 2018] Assembling contigs from SdBG for k = 59 ---\n",
      "--- [Mon Nov  5 16:20:24 2018] Local assembling k = 59 ---\n",
      "--- [Mon Nov  5 16:20:50 2018] Extracting iterative edges from k = 59 to 79 ---\n",
      "--- [Mon Nov  5 16:21:06 2018] Building graph for k = 79 ---\n",
      "--- [Mon Nov  5 16:21:08 2018] Assembling contigs from SdBG for k = 79 ---\n",
      "--- [Mon Nov  5 16:21:18 2018] Local assembling k = 79 ---\n",
      "--- [Mon Nov  5 16:21:45 2018] Extracting iterative edges from k = 79 to 99 ---\n",
      "--- [Mon Nov  5 16:22:01 2018] Building graph for k = 99 ---\n",
      "--- [Mon Nov  5 16:22:03 2018] Assembling contigs from SdBG for k = 99 ---\n",
      "--- [Mon Nov  5 16:22:11 2018] Local assembling k = 99 ---\n",
      "--- [Mon Nov  5 16:22:36 2018] Extracting iterative edges from k = 99 to 119 ---\n",
      "--- [Mon Nov  5 16:22:52 2018] Building graph for k = 119 ---\n",
      "--- [Mon Nov  5 16:22:54 2018] Assembling contigs from SdBG for k = 119 ---\n",
      "--- [Mon Nov  5 16:23:01 2018] Local assembling k = 119 ---\n",
      "--- [Mon Nov  5 16:23:22 2018] Extracting iterative edges from k = 119 to 141 ---\n",
      "--- [Mon Nov  5 16:23:38 2018] Building graph for k = 141 ---\n",
      "--- [Mon Nov  5 16:23:39 2018] Assembling contigs from SdBG for k = 141 ---\n",
      "--- [Mon Nov  5 16:23:46 2018] Merging to output final contigs ---\n",
      "--- [STAT] 11 contigs, total 12374429 bp, min 281 bp, max 2749210 bp, avg 1124948 bp, N50 2000000 bp\n",
      "--- [Mon Nov  5 16:23:46 2018] ALL DONE. Time elapsed: 449.608478 seconds ---\n"
     ]
    }
   ],
   "source": [
    "![ -e 'Out Megahit' ] && rm -r 'Out Megahit'\n",
    "!mkdir 'Out Megahit'\n",
    "\n",
    "!cd 'Out Megahit' && /media/anuradhawick/data/Tools/megahit/megahit \\\n",
    "-r '/media/anuradhawick/data/Experiments/Assembly Graph/Sampled Reads/all-in-one.fastq.gz'"
   ]
  },
  {
   "cell_type": "markdown",
   "metadata": {},
   "source": [
    "# Creating Contig Graphs"
   ]
  },
  {
   "cell_type": "code",
   "execution_count": 46,
   "metadata": {},
   "outputs": [],
   "source": [
    "from pathlib import Path\n",
    "import csv\n",
    "\n",
    "pathlist = [str(path) for path in Path('./Out Megahit/megahit_out/intermediate_contigs/').glob('**/*.contigs.fa')]\n",
    "\n",
    "for path in pathlist:\n",
    "    if 'final' in path: continue\n",
    "    kmer_size = path.split('/')[::-1][0].split('.')[0][1::]\n",
    "    get_ipython().system(\"cd 'Out Megahit' && /media/anuradhawick/data/Tools/megahit/megahit_toolkit contig2fastg \" + kmer_size + \" \" + \"/\".join(path.split('/')[1::]) +\" > k\" + kmer_size +\".contigs.fastg\")\n",
    "    get_ipython().system(\"cd 'Out Megahit' && /media/anuradhawick/data/Tools/Bandage/Bandage_Ubuntu_dynamic_v0_8_1/Bandage image k\" + kmer_size + \".contigs.fastg ../image_graph_megahit_k\" + kmer_size +\".png\")"
   ]
  },
  {
   "cell_type": "markdown",
   "metadata": {},
   "source": [
    "## Graph k=21\n",
    "![title](image_graph_megahit_k21.png)\n",
    "## Graph k=29\n",
    "![title](image_graph_megahit_k29.png)\n",
    "## Graph k=39\n",
    "![title](image_graph_megahit_k39.png)\n",
    "## Graph k=59\n",
    "![title](image_graph_megahit_k59.png)\n",
    "## Graph k=79\n",
    "![title](image_graph_megahit_k79.png)\n",
    "## Graph k=99\n",
    "![title](image_graph_megahit_k99.png)\n",
    "## Graph k=119\n",
    "![title](image_graph_megahit_k119.png)\n",
    "## Graph k=141\n",
    "![title](image_graph_megahit_k141.png)"
   ]
  }
 ],
 "metadata": {
  "kernelspec": {
   "display_name": "Python 3",
   "language": "python",
   "name": "python3"
  },
  "language_info": {
   "codemirror_mode": {
    "name": "ipython",
    "version": 3
   },
   "file_extension": ".py",
   "mimetype": "text/x-python",
   "name": "python",
   "nbconvert_exporter": "python",
   "pygments_lexer": "ipython3",
   "version": "3.6.5"
  }
 },
 "nbformat": 4,
 "nbformat_minor": 2
}
