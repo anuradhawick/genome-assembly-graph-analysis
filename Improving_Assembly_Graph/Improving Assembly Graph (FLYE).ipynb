{
 "cells": [
  {
   "cell_type": "markdown",
   "metadata": {},
   "source": [
    "# Improving the Graph\n",
    "\n",
    "## Steps\n",
    "\n",
    "* Get the contigs and calculate the coverage\n",
    "    * Align the contigs to reads using Minimap2\n",
    "    * Sort the aligments using Samtools\n",
    "    * Obtain the dept of each contig position using Samtools depth\n",
    "\n",
    "* Get the coverage of links in the graph\n",
    "    * For each link, obtain the connection sequence by connecting the latter 50% of first contig with first 50% of the next contig\n",
    "    * Obtain the coverage as in the same way above"
   ]
  },
  {
   "cell_type": "markdown",
   "metadata": {},
   "source": [
    "## Extracting Contigs, Links and Connection Contigs from the GFA file"
   ]
  },
  {
   "cell_type": "code",
   "execution_count": 1,
   "metadata": {},
   "outputs": [],
   "source": [
    "# All the imports\n",
    "import gfapy as gf\n",
    "\n",
    "# Python imports\n",
    "from pathlib import Path\n",
    "import re\n",
    "import copy\n",
    "from uuid import uuid1\n",
    "from joblib import Parallel, delayed\n",
    "import multiprocessing\n",
    "\n",
    "# BioPython imports\n",
    "from Bio.Seq import Seq\n",
    "from Bio.SeqRecord import SeqRecord\n",
    "from Bio.Alphabet import DNAAlphabet\n",
    "from Bio import SeqIO\n",
    "\n",
    "# Scientific imports\n",
    "import numpy as np\n",
    "import matplotlib.pyplot as plt\n",
    "\n",
    "# PySAM\n",
    "import pysam\n",
    "from collections import defaultdict\n",
    "\n",
    "# for generated genome G4\n",
    "# project_name = \"simG4\"\n",
    "# readspath = \"../Assembly/Sampled Reads/sd_0004.fastq\"\n",
    "# graphpath = \"/media/anuradhawick/data/Experiments/Assembly Graph/Assembly/FLYE/Out FLYE_4/assembly_graph.gfa\"\n",
    "\n",
    "# e coli\n",
    "# readspath = \"../Assembly/Sampled Reads EColi/sd_0001.fastq\"\n",
    "# graphpath = \"/media/anuradhawick/data/Experiments/Assembly Graph/Assembly/FLYE/Out EColi/assembly_graph.gfa\"\n",
    "\n",
    "# paths for human chromosome 22 (5MB)\n",
    "# readspath = \"../Assembly/Sampled_Reads_Chr22/sd_0001.fastq\"\n",
    "# graphpath = \"/media/anuradhawick/data/Experiments/Assembly_Graph/Assembly/FLYE/Out Chr22/assembly_graph.gfa\"\n",
    "# project_name = \"chr22\"\n",
    "\n",
    "# paths for Yeast Genome\n",
    "# readspath = \"../Assembly/Sampled_Reads_Yeast/sd_0001.fastq\"\n",
    "# graphpath = \"/media/anuradhawick/data/Experiments/Assembly_Graph/Assembly/FLYE/Out Yeast/assembly_graph.gfa\"\n",
    "# project_name = \"yeast\"\n",
    "\n",
    "readspath = \"/home/anuradhawick/Desktop/pipeline_output/yeast_reads/all.fastq\"\n",
    "graphpath = \"/home/anuradhawick/Desktop/pipeline_output/flye_yeast/assembly_graph.gfa\"\n",
    "project_name = \"yeast_nci\"\n",
    "\n",
    "read_coverage = 50\n",
    "read_length = 25000"
   ]
  },
  {
   "cell_type": "code",
   "execution_count": 2,
   "metadata": {},
   "outputs": [],
   "source": [
    "![ -e \"$project_name\" ] && rm -r \"$project_name\"\n",
    "![ ! -e \"$project_name\" ] && mkdir \"$project_name\"\n",
    "\n",
    "![ ! -e \"$project_name\"/links ] && mkdir \"$project_name\"/links\n",
    "![ ! -e \"$project_name\"/contigs ] && mkdir \"$project_name\"/contigs\n",
    "\n",
    "gfa = gf.Gfa.from_file(graphpath)\n",
    "\n",
    "segments = {}\n",
    "contig_lengths = {}\n",
    "contig_coverage = {}\n",
    "\n",
    "def get_aligning_sequences(s1, o1, s2, o2):\n",
    "    seq1 = Seq(s1)\n",
    "    seq2 = Seq(s2)\n",
    "\n",
    "    if (o1 == '-'):\n",
    "        seq1 = seq1.reverse_complement()\n",
    "    \n",
    "    if (o2 == '-'):\n",
    "        seq2 = seq2.reverse_complement()\n",
    "\n",
    "    return seq1, seq2\n",
    "\n",
    "for x in gfa.segments:\n",
    "    contig_coverage[x.name] = x.get('dp')\n",
    "    segments[x.name] = x\n",
    "    contig_lengths[x.name] = len(x.sequence)\n",
    "    record1 = SeqRecord(Seq(x.sequence, DNAAlphabet),\n",
    "                        id=x.name, description=\"Contig name=\"+x.name)\n",
    "    SeqIO.write(record1, project_name + \"/contigs/\" + x.name, \"fasta\")\n",
    "    \n",
    "    \n",
    "\n",
    "for x in gfa.dovetails:\n",
    "    seq1, seq2 = get_aligning_sequences(x.from_segment.sequence, x.from_orient, x.to_segment.sequence, x.to_orient)\n",
    "\n",
    "    fname = x.from_segment.name + x.from_orient + x.to_segment.name + x.to_orient\n",
    "\n",
    "    seq1_portion = round(read_length / 2)\n",
    "    seq2_portion = round(read_length / 2)\n",
    "    \n",
    "    seq1_len = len(seq1[-1 * seq1_portion::])\n",
    "    seq2_len = len(seq2[0:seq2_portion])\n",
    "    \n",
    "    idstr = fname + \"_\" + str(seq1_len) + \":\" + str(seq2_len)\n",
    "    \n",
    "    record = SeqRecord(seq1[-1 * seq1_portion::] + seq2[0:seq2_portion], id=idstr, description=\"\")\n",
    "\n",
    "    SeqIO.write(record, project_name + \"/links/\" + fname, \"fasta\")\n",
    "\n",
    "# Gathering all contigs to one place\n",
    "!cat $project_name/contigs/contig* > $project_name/contigs/all.fasta\n",
    "!cat $project_name/links/contig*contig* > $project_name/links/all.fasta"
   ]
  },
  {
   "cell_type": "markdown",
   "metadata": {},
   "source": [
    "# Computing Coverage of Links "
   ]
  },
  {
   "cell_type": "code",
   "execution_count": 3,
   "metadata": {},
   "outputs": [
    {
     "name": "stdout",
     "output_type": "stream",
     "text": [
      "[M::mm_idx_gen::0.055*1.04] collected minimizers\n",
      "[M::mm_idx_gen::0.063*1.26] sorted minimizers\n",
      "[M::main::0.067*1.25] loaded/built the index for 106 target sequence(s)\n",
      "[M::mm_idx_stat] kmer size: 15; skip: 10; is_hpc: 0; #seq: 106\n",
      "[M::mm_idx_stat::0.068*1.24] distinct minimizers: 74085 (68.29% are singletons); average occurrences: 2.914; average spacing: 5.372\n",
      "[M::main] Version: 2.14-r886-dirty\n",
      "[M::main] CMD: minimap2 -d yeast_nci/links/links_mapping.bai yeast_nci/links/all.fasta\n",
      "[M::main] Real time: 0.070 sec; CPU: 0.087 sec; Peak RSS: 0.013 GB\n",
      "[M::mm_idx_gen::0.058*1.03] collected minimizers\n",
      "[M::mm_idx_gen::0.065*1.25] sorted minimizers\n",
      "[M::main::0.066*1.25] loaded/built the index for 106 target sequence(s)\n",
      "[M::mm_mapopt_update::0.067*1.25] mid_occ = 63\n",
      "[M::mm_idx_stat] kmer size: 15; skip: 10; is_hpc: 0; #seq: 106\n",
      "[M::mm_idx_stat::0.068*1.24] distinct minimizers: 74085 (68.29% are singletons); average occurrences: 2.914; average spacing: 5.372\n",
      "[M::worker_pipeline::26.142*2.90] mapped 21589 sequences\n",
      "[M::worker_pipeline::29.220*2.90] mapped 4679 sequences\n",
      "[M::main] Version: 2.14-r886-dirty\n",
      "[M::main] CMD: minimap2 --cs -a yeast_nci/links/all.fasta /home/anuradhawick/Desktop/pipeline_output/yeast_reads/all.fastq\n",
      "[M::main] Real time: 29.234 sec; CPU: 84.790 sec; Peak RSS: 1.258 GB\n"
     ]
    }
   ],
   "source": [
    "![ -e \"$project_name/link_mappings\" ] && rm -r \"$project_name/link_mappings\"\n",
    "![ ! -e \"$project_name/link_mappings\" ] && mkdir \"$project_name/link_mappings\"\n",
    "\n",
    "!minimap2 -d \"$project_name/links/links_mapping.bai\" \"$project_name/links/all.fasta\"\n",
    "!minimap2 --cs -a \"$project_name/links/all.fasta\" \"$readspath\" > \"$project_name/link_mappings/links_mapping.sam\""
   ]
  },
  {
   "cell_type": "code",
   "execution_count": 4,
   "metadata": {},
   "outputs": [],
   "source": [
    "# read and edit SAM file here\n",
    "samfile = pysam.AlignmentFile(project_name + \"/link_mappings/links_mapping.sam\", \"r\")\n",
    "contained_filtered = defaultdict(set) # dictionary of sets\n",
    "contained_seqs = defaultdict(set)\n",
    "\n",
    "new_sam = open(project_name + \"/link_mappings/links_mapping.filtered.sam\", \"w+\")\n",
    "new_sam.write(str(samfile.header))\n",
    "\n",
    "for aln in samfile:\n",
    "    name = aln.reference_name\n",
    "    if not aln.is_unmapped:\n",
    "        lengths = list(map(int, name.split(\"_\").pop().split(\":\")))\n",
    "        start = aln.reference_start\n",
    "        end = aln.reference_end\n",
    "        \n",
    "        if start < lengths[0] and end > lengths[0]:\n",
    "            new_sam.write(aln.to_string() + \"\\n\")\n",
    "\n",
    "new_sam.close()"
   ]
  },
  {
   "cell_type": "code",
   "execution_count": 5,
   "metadata": {},
   "outputs": [],
   "source": [
    "\n",
    "!samtools view -Sb \"$project_name/link_mappings/links_mapping.filtered.sam\" > \"$project_name/link_mappings/links_mapping.bam\"\n",
    "!samtools sort \"$project_name/link_mappings/links_mapping.bam\" > \"$project_name/link_mappings/links_mapping.sorted.bam\"\n",
    "!samtools index \"$project_name/link_mappings/links_mapping.sorted.bam\"\n",
    "\n",
    "!bedtools genomecov -bg -ibam \"$project_name/link_mappings/links_mapping.sorted.bam\" -g \"$project_name/links/all.fasta\" > \"$project_name/link_mappings/coverage_map.bam\""
   ]
  },
  {
   "cell_type": "markdown",
   "metadata": {},
   "source": [
    "## Obtaining Coverage of Links"
   ]
  },
  {
   "cell_type": "code",
   "execution_count": 9,
   "metadata": {
    "scrolled": true
   },
   "outputs": [
    {
     "name": "stdout",
     "output_type": "stream",
     "text": [
      "defaultdict(<class 'int'>, {'contig_1-contig_34-': 39, 'contig_11+contig_20+': 50, 'contig_11-contig_17+': 25, 'contig_12+contig_24-': 15, 'contig_12-contig_30-': 25, 'contig_13+contig_26-': 43, 'contig_13-contig_26-': 41, 'contig_14+contig_27-': 65, 'contig_14-contig_18+': 14, 'contig_16+contig_10+': 31, 'contig_16+contig_7+': 30, 'contig_18+contig_28-': 2, 'contig_18+contig_37-': 56, 'contig_18+contig_38-': 1, 'contig_18-contig_16+': 16, 'contig_18-contig_24+': 10, 'contig_19+contig_20+': 40, 'contig_2+contig_34-': 33, 'contig_20+contig_30-': 11, 'contig_21-contig_33+': 17, 'contig_22-contig_35+': 45, 'contig_22-contig_35-': 390, 'contig_22-contig_36+': 45, 'contig_23+contig_23+': 11, 'contig_23+contig_35+': 187, 'contig_23+contig_35-': 82, 'contig_23+contig_36+': 40, 'contig_23-contig_25+': 44, 'contig_23-contig_35+': 74, 'contig_23-contig_35-': 11, 'contig_23-contig_36+': 46, 'contig_25+contig_23+': 5, 'contig_25+contig_25+': 15, 'contig_25+contig_25-': 2, 'contig_25+contig_35+': 68, 'contig_25+contig_35-': 945, 'contig_25+contig_36+': 36, 'contig_25-contig_25+': 41, 'contig_25-contig_35+': 250, 'contig_25-contig_35-': 660, 'contig_25-contig_36+': 89, 'contig_27+contig_26+': 84, 'contig_27-contig_22+': 15, 'contig_27-contig_25+': 15, 'contig_27-contig_35+': 22, 'contig_27-contig_35-': 384, 'contig_27-contig_36+': 38, 'contig_28+contig_28+': 1, 'contig_28+contig_30+': 20, 'contig_28+contig_38+': 58, 'contig_28-contig_38-': 3, 'contig_29+contig_29+': 91, 'contig_3+contig_18+': 16, 'contig_3-contig_32-': 21, 'contig_30-contig_37-': 67, 'contig_30-contig_38-': 4, 'contig_32+contig_34+': 39, 'contig_35+contig_35+': 82, 'contig_35+contig_36+': 43, 'contig_35-contig_35+': 149, 'contig_35-contig_36+': 155, 'contig_36+contig_22+': 1, 'contig_36+contig_25-': 63, 'contig_36+contig_35+': 132, 'contig_36+contig_35-': 1820, 'contig_36+contig_36+': 23, 'contig_37-contig_38-': 42, 'contig_38+contig_38+': 5, 'contig_4+contig_24-': 31, 'contig_5+contig_30-': 46, 'contig_5-contig_30-': 34, 'contig_6+contig_30-': 1, 'contig_6-contig_17+': 32, 'contig_8-contig_33+': 29, 'contig_9+contig_37-': 11, 'contig_9+contig_38-': 3, 'contig_9-contig_37-': 13, 'contig_9-contig_38-': 12})\n",
      "\n",
      "{'contig_1': 50, 'contig_2': 49, 'contig_3': 50, 'contig_4': 50, 'contig_5': 50, 'contig_6': 50, 'contig_7': 54, 'contig_8': 50, 'contig_9': 50, 'contig_10': 50, 'contig_11': 51, 'contig_12': 51, 'contig_13': 56, 'contig_14': 52, 'contig_15': 41, 'contig_16': 57, 'contig_17': 33, 'contig_18': 80, 'contig_19': 51, 'contig_20': 66, 'contig_21': 50, 'contig_22': 38, 'contig_23': 99, 'contig_24': 41, 'contig_25': 183, 'contig_26': 71, 'contig_27': 107, 'contig_28': 121, 'contig_29': 148, 'contig_30': 170, 'contig_31': 15, 'contig_32': 58, 'contig_33': 42, 'contig_34': 70, 'contig_35': 2321, 'contig_36': 6827, 'contig_37': 250, 'contig_38': 160}\n"
     ]
    }
   ],
   "source": [
    "link_coverage_temp = defaultdict(list)\n",
    "link_coverage = defaultdict(int)\n",
    "\n",
    "with open(project_name+ \"/link_mappings/coverage_map.bam\", \"r\") as cmap:\n",
    "    line = cmap.readline()\n",
    "    \n",
    "    while line:\n",
    "        name, start, end, coverage = line.split()\n",
    "        name = re.sub(r'_[0-9]*:[0-9]*', '', name)\n",
    "        start, end, coverage = map(int, [start, end, coverage])\n",
    "   \n",
    "        link_coverage_temp[name].append([end - start, coverage])\n",
    "        line = cmap.readline()\n",
    "\n",
    "for key, val in link_coverage_temp.items():\n",
    "    sig_l = 0\n",
    "    lc = 0\n",
    "    for l, c in val:\n",
    "        lc += l * c\n",
    "        sig_l += l\n",
    "    link_coverage[key] = round(float(lc) / float(sig_l))\n",
    "\n",
    "print(link_coverage)\n",
    "print()\n",
    "print(contig_coverage)"
   ]
  },
  {
   "cell_type": "markdown",
   "metadata": {},
   "source": [
    "# Filter contig containments\n",
    "\n",
    "### Get contigs from the GFA"
   ]
  },
  {
   "cell_type": "code",
   "execution_count": 7,
   "metadata": {},
   "outputs": [
    {
     "name": "stdout",
     "output_type": "stream",
     "text": [
      "[M::mm_idx_gen::0.283*1.00] collected minimizers\n",
      "[M::mm_idx_gen::0.352*1.40] sorted minimizers\n",
      "[M::main::0.422*1.33] loaded/built the index for 38 target sequence(s)\n",
      "[M::mm_idx_stat] kmer size: 15; skip: 10; is_hpc: 0; #seq: 38\n",
      "[M::mm_idx_stat::0.441*1.32] distinct minimizers: 2076414 (96.29% are singletons); average occurrences: 1.073; average spacing: 5.339\n",
      "[M::main] Version: 2.14-r886-dirty\n",
      "[M::main] CMD: minimap2 -d yeast_nci/self_mappings/mapping.bai yeast_nci/contigs/all_ref.fasta\n",
      "[M::main] Real time: 0.446 sec; CPU: 0.585 sec; Peak RSS: 0.114 GB\n",
      "[M::mm_idx_gen::0.252*1.00] collected minimizers\n",
      "[M::mm_idx_gen::0.322*1.43] sorted minimizers\n",
      "[M::main::0.322*1.43] loaded/built the index for 38 target sequence(s)\n",
      "[M::mm_mapopt_update::0.349*1.40] mid_occ = 33\n",
      "[M::mm_idx_stat] kmer size: 15; skip: 10; is_hpc: 0; #seq: 38\n",
      "[M::mm_idx_stat::0.370*1.38] distinct minimizers: 2076414 (96.29% are singletons); average occurrences: 1.073; average spacing: 5.339\n",
      "[M::worker_pipeline::1.476*2.33] mapped 38 sequences\n",
      "[M::main] Version: 2.14-r886-dirty\n",
      "[M::main] CMD: minimap2 --cs -a yeast_nci/contigs/all_ref.fasta yeast_nci/contigs/all.fasta\n",
      "[M::main] Real time: 1.482 sec; CPU: 3.441 sec; Peak RSS: 0.205 GB\n"
     ]
    }
   ],
   "source": [
    "![ -e \"$project_name/self_mappings\" ] && rm -r \"$project_name/self_mappings\"\n",
    "![ ! -e \"$project_name/self_mappings\" ] && mkdir \"$project_name/self_mappings\"\n",
    "\n",
    "!cp \"$project_name/contigs/all.fasta\" \"$project_name/contigs/all_ref.fasta\"\n",
    "\n",
    "!minimap2 -d \"$project_name/self_mappings/mapping.bai\" \"$project_name/contigs/all_ref.fasta\"\n",
    "!minimap2 --cs -a \"$project_name/contigs/all_ref.fasta\" \"$project_name/contigs/all.fasta\" > \"$project_name/self_mappings/mapping.sam\"\n",
    "!samtools view -Sb \"$project_name/self_mappings/mapping.sam\" > \"$project_name/self_mappings/mapping.bam\"\n",
    "!samtools sort \"$project_name/self_mappings/mapping.bam\" > \"$project_name/self_mappings/mapping.sorted.bam\"\n",
    "!samtools index \"$project_name/self_mappings/mapping.sorted.bam\""
   ]
  },
  {
   "cell_type": "code",
   "execution_count": 8,
   "metadata": {
    "scrolled": false
   },
   "outputs": [
    {
     "name": "stdout",
     "output_type": "stream",
     "text": [
      "['contig_1', 'contig_10', 'contig_11', 'contig_12', 'contig_13', 'contig_14', 'contig_15', 'contig_16', 'contig_17', 'contig_18', 'contig_19', 'contig_2', 'contig_20', 'contig_21', 'contig_22', 'contig_24', 'contig_26', 'contig_27', 'contig_28', 'contig_3', 'contig_30', 'contig_31', 'contig_32', 'contig_33', 'contig_34', 'contig_37', 'contig_38', 'contig_4', 'contig_5', 'contig_6', 'contig_7', 'contig_8', 'contig_9']\n",
      "['contig_1', 'contig_10', 'contig_11', 'contig_12', 'contig_13', 'contig_14', 'contig_15', 'contig_16', 'contig_17', 'contig_18', 'contig_19', 'contig_2', 'contig_20', 'contig_21', 'contig_22', 'contig_23', 'contig_24', 'contig_25', 'contig_26', 'contig_27', 'contig_28', 'contig_29', 'contig_3', 'contig_30', 'contig_31', 'contig_32', 'contig_33', 'contig_34', 'contig_35', 'contig_36', 'contig_37', 'contig_38', 'contig_4', 'contig_5', 'contig_6', 'contig_7', 'contig_8', 'contig_9']\n",
      "{'contig_23', 'contig_29', 'contig_35', 'contig_25', 'contig_36'}\n"
     ]
    }
   ],
   "source": [
    "samfile = pysam.AlignmentFile(project_name + \"/self_mappings/mapping.sorted.bam\", \"rb\")\n",
    "contained_filtered = defaultdict(set) # dictionary of sets\n",
    "contained_seqs = defaultdict(set)\n",
    "\n",
    "for aln in samfile:\n",
    "    if aln.reference_name == aln.query_name:\n",
    "        contained_seqs[aln.reference_name].add(None)\n",
    "        contained_filtered[aln.reference_name].add(None)\n",
    "    else:\n",
    "        # check if query is within refernece\n",
    "        ref_start = aln.reference_start\n",
    "        ref_end = aln.reference_end\n",
    "        q_len = aln.query_length\n",
    "        \n",
    "        if ref_start + q_len <= ref_end:\n",
    "            contained_seqs[aln.reference_name].add(aln.query_name)\n",
    "            contained_filtered[aln.reference_name].add(aln.query_name)\n",
    "\n",
    "removed = True\n",
    "\n",
    "while (removed):\n",
    "    removable = []    \n",
    "    for key in list(contained_filtered.keys()):\n",
    "        removable.extend(list(contained_filtered[key]))\n",
    "    \n",
    "    removed = False\n",
    "\n",
    "    for key in removable:\n",
    "        if key in contained_filtered:\n",
    "            del contained_filtered[key]\n",
    "            removed = True\n",
    "    \n",
    "significant_contigs = list(contained_filtered.keys())\n",
    "all_contigs = list(contained_seqs.keys())\n",
    "removed_contigs = set(all_contigs) - set(significant_contigs)\n",
    "\n",
    "![ -e \"$project_name/valid_contigs\" ] && rm -r \"$project_name/valid_contigs\"\n",
    "![ ! -e \"$project_name/valid_contigs\" ] && mkdir \"$project_name/valid_contigs\"\n",
    "\n",
    "cmd = \"cat \"\n",
    "\n",
    "for c in significant_contigs:\n",
    "    p = project_name + \"/contigs/\" + c + \" \"\n",
    "    cmd += p\n",
    "\n",
    "cmd += \" > \" + project_name + \"/valid_contigs/all_valid.fasta\"\n",
    "\n",
    "\n",
    "!$cmd\n",
    "\n",
    "print(significant_contigs)\n",
    "print(all_contigs)\n",
    "print(removed_contigs)"
   ]
  }
 ],
 "metadata": {
  "kernelspec": {
   "display_name": "Python 3",
   "language": "python",
   "name": "python3"
  },
  "language_info": {
   "codemirror_mode": {
    "name": "ipython",
    "version": 3
   },
   "file_extension": ".py",
   "mimetype": "text/x-python",
   "name": "python",
   "nbconvert_exporter": "python",
   "pygments_lexer": "ipython3",
   "version": "3.6.5"
  }
 },
 "nbformat": 4,
 "nbformat_minor": 2
}
