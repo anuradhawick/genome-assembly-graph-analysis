{
 "cells": [
  {
   "cell_type": "code",
   "execution_count": 61,
   "metadata": {},
   "outputs": [],
   "source": [
    "# Python imports\n",
    "from pathlib import Path\n",
    "\n",
    "# plot imports\n",
    "import matplotlib.pyplot as plt\n",
    "\n",
    "# scipy imports\n",
    "import numpy as np\n",
    "from scipy.stats import poisson"
   ]
  },
  {
   "cell_type": "code",
   "execution_count": 62,
   "metadata": {},
   "outputs": [],
   "source": [
    "contigs_path = \"./contigs/\"\n",
    "reads_path = \"../Assembly/Sampled Reads/sd_0004.fastq\"\n",
    "\n",
    "\n",
    "paths = Path(contigs_path).glob('**/*')\n",
    "contigs_coverages = []"
   ]
  },
  {
   "cell_type": "code",
   "execution_count": 63,
   "metadata": {},
   "outputs": [],
   "source": [
    "def nomalize(data):\n",
    "    data = np.array(data).astype(np.float)\n",
    "    total = np.sum(data)\n",
    "    \n",
    "    \n",
    "    \n",
    "    def map_f(item):\n",
    "        return item/total\n",
    "    \n",
    "    return np.array(list(map(map_f,data)))\n",
    "\n",
    "def plot_hist(data):\n",
    "    # An \"interface\" to matplotlib.axes.Axes.hist() method\n",
    "    n, bins, patches = plt.hist(x=data, bins='auto', color='#0504aa',\n",
    "                                alpha=0.7, rwidth=0.85)\n",
    "    plt.grid(axis='y', alpha=0.75)\n",
    "    plt.xlabel('Coverage')\n",
    "    plt.ylabel('Frequency')\n",
    "    plt.title('Dsitribution of Coverage')\n",
    "    plt.show()\n",
    "    plt.figure()\n",
    "\n",
    "def detect_links_to_investigate(graph, contig_coverages, link_coverages):\n",
    "    # if the contig_coverage/read_coverage is 1 and there are multiple outgoing/incoming edges\n",
    "    # if the contig_coverage/read_coverage is less than the sum of that of out going edges => bogus edge exist\n",
    "    \n",
    "    return None"
   ]
  },
  {
   "cell_type": "code",
   "execution_count": 64,
   "metadata": {},
   "outputs": [
    {
     "name": "stdout",
     "output_type": "stream",
     "text": [
      "INFO:: Checking contig contigs/contig_3\n",
      "[M::mm_idx_gen::0.059*0.99] collected minimizers\n",
      "[M::mm_idx_gen::0.072*1.33] sorted minimizers\n",
      "[M::main::0.072*1.33] loaded/built the index for 1 target sequence(s)\n",
      "[M::mm_mapopt_update::0.076*1.31] mid_occ = 3\n",
      "[M::mm_idx_stat] kmer size: 15; skip: 10; is_hpc: 0; #seq: 1\n",
      "[M::mm_idx_stat::0.079*1.29] distinct minimizers: 372580 (99.87% are singletons); average occurrences: 1.001; average spacing: 5.361\n",
      "[M::worker_pipeline::10.131*2.80] mapped 19193 sequences\n",
      "[M::main] Version: 2.14-r886-dirty\n",
      "[M::main] CMD: minimap2 -a contigs/contig_3 ../Assembly/Sampled Reads/sd_0004.fastq\n",
      "[M::main] Real time: 10.136 sec; CPU: 28.336 sec; Peak RSS: 0.495 GB\n",
      "INFO:: Checking contig contigs/contig_2\n",
      "[M::mm_idx_gen::0.040*1.02] collected minimizers\n",
      "[M::mm_idx_gen::0.050*1.41] sorted minimizers\n",
      "[M::main::0.050*1.41] loaded/built the index for 1 target sequence(s)\n",
      "[M::mm_mapopt_update::0.054*1.38] mid_occ = 3\n",
      "[M::mm_idx_stat] kmer size: 15; skip: 10; is_hpc: 0; #seq: 1\n",
      "[M::mm_idx_stat::0.057*1.36] distinct minimizers: 326069 (99.89% are singletons); average occurrences: 1.001; average spacing: 5.361\n",
      "[M::worker_pipeline::9.668*2.79] mapped 19193 sequences\n",
      "[M::main] Version: 2.14-r886-dirty\n",
      "[M::main] CMD: minimap2 -a contigs/contig_2 ../Assembly/Sampled Reads/sd_0004.fastq\n",
      "[M::main] Real time: 9.681 sec; CPU: 27.007 sec; Peak RSS: 0.504 GB\n",
      "INFO:: Checking contig contigs/contig_1\n",
      "[M::mm_idx_gen::0.015*1.05] collected minimizers\n",
      "[M::mm_idx_gen::0.021*1.57] sorted minimizers\n",
      "[M::main::0.021*1.57] loaded/built the index for 1 target sequence(s)\n",
      "[M::mm_mapopt_update::0.022*1.53] mid_occ = 3\n",
      "[M::mm_idx_stat] kmer size: 15; skip: 10; is_hpc: 0; #seq: 1\n",
      "[M::mm_idx_stat::0.024*1.51] distinct minimizers: 116381 (99.95% are singletons); average occurrences: 1.001; average spacing: 5.368\n",
      "[M::worker_pipeline::7.444*2.72] mapped 19193 sequences\n",
      "[M::main] Version: 2.14-r886-dirty\n",
      "[M::main] CMD: minimap2 -a contigs/contig_1 ../Assembly/Sampled Reads/sd_0004.fastq\n",
      "[M::main] Real time: 7.447 sec; CPU: 20.249 sec; Peak RSS: 0.481 GB\n"
     ]
    }
   ],
   "source": [
    "# for contigs\n",
    "for p in [str(p) for p in paths]:\n",
    "    print(\"INFO:: Checking contig\", p)\n",
    "    !minimap2 -a \"$p\" \"$reads_path\" > out.txt\n",
    "    !samtools sort out.txt > out.sorted.txt\n",
    "    !samtools depth out.sorted.txt > out.txt \n",
    "    \n",
    "    covereage_vals = !cut -f3 out.txt\n",
    "    \n",
    "    tot = sum(list(map(int, covereage_vals)))\n",
    "    \n",
    "    !rm out.txt out.sorted.txt\n",
    "    \n",
    "    contigs_coverages.append({'name': p, 'coverages': covereage_vals})"
   ]
  },
  {
   "cell_type": "code",
   "execution_count": 66,
   "metadata": {},
   "outputs": [
    {
     "name": "stdout",
     "output_type": "stream",
     "text": [
      "INFO:: Checking link links/contig_1+contig_1+\n",
      "[M::mm_idx_gen::0.001*1.77] collected minimizers\n",
      "[M::mm_idx_gen::0.001*2.23] sorted minimizers\n",
      "[M::main::0.001*2.22] loaded/built the index for 1 target sequence(s)\n",
      "[M::mm_mapopt_update::0.002*2.14] mid_occ = 2\n",
      "[M::mm_idx_stat] kmer size: 15; skip: 10; is_hpc: 0; #seq: 1\n",
      "[M::mm_idx_stat::0.002*2.08] distinct minimizers: 1876 (100.00% are singletons); average occurrences: 1.000; average spacing: 5.330\n",
      "[M::worker_pipeline::2.536*2.28] mapped 19193 sequences\n",
      "[M::main] Version: 2.14-r886-dirty\n",
      "[M::main] CMD: minimap2 -a links/contig_1+contig_1+ ../Assembly/Sampled Reads/sd_0004.fastq\n",
      "[M::main] Real time: 2.536 sec; CPU: 5.789 sec; Peak RSS: 0.488 GB\n",
      "INFO:: Checking link links/contig_2-contig_3+\n",
      "[M::mm_idx_gen::0.001*1.80] collected minimizers\n",
      "[M::mm_idx_gen::0.002*2.17] sorted minimizers\n",
      "[M::main::0.002*2.14] loaded/built the index for 1 target sequence(s)\n",
      "[M::mm_mapopt_update::0.002*2.08] mid_occ = 2\n",
      "[M::mm_idx_stat] kmer size: 15; skip: 10; is_hpc: 0; #seq: 1\n",
      "[M::mm_idx_stat::0.002*2.03] distinct minimizers: 1848 (100.00% are singletons); average occurrences: 1.000; average spacing: 5.411\n",
      "[M::worker_pipeline::2.648*2.32] mapped 19193 sequences\n",
      "[M::main] Version: 2.14-r886-dirty\n",
      "[M::main] CMD: minimap2 -a links/contig_2-contig_3+ ../Assembly/Sampled Reads/sd_0004.fastq\n",
      "[M::main] Real time: 2.648 sec; CPU: 6.152 sec; Peak RSS: 0.489 GB\n",
      "INFO:: Checking link links/contig_1+contig_3+\n",
      "[M::mm_idx_gen::0.001*1.71] collected minimizers\n",
      "[M::mm_idx_gen::0.001*2.17] sorted minimizers\n",
      "[M::main::0.001*2.15] loaded/built the index for 1 target sequence(s)\n",
      "[M::mm_mapopt_update::0.001*2.05] mid_occ = 2\n",
      "[M::mm_idx_stat] kmer size: 15; skip: 10; is_hpc: 0; #seq: 1\n",
      "[M::mm_idx_stat::0.002*1.98] distinct minimizers: 1841 (100.00% are singletons); average occurrences: 1.000; average spacing: 5.432\n",
      "[M::worker_pipeline::2.488*2.28] mapped 19193 sequences\n",
      "[M::main] Version: 2.14-r886-dirty\n",
      "[M::main] CMD: minimap2 -a links/contig_1+contig_3+ ../Assembly/Sampled Reads/sd_0004.fastq\n",
      "[M::main] Real time: 2.489 sec; CPU: 5.677 sec; Peak RSS: 0.481 GB\n",
      "INFO:: Checking link links/contig_2-contig_1+\n",
      "[M::mm_idx_gen::0.001*1.86] collected minimizers\n",
      "[M::mm_idx_gen::0.001*2.20] sorted minimizers\n",
      "[M::main::0.001*2.19] loaded/built the index for 1 target sequence(s)\n",
      "[M::mm_mapopt_update::0.002*2.10] mid_occ = 2\n",
      "[M::mm_idx_stat] kmer size: 15; skip: 10; is_hpc: 0; #seq: 1\n",
      "[M::mm_idx_stat::0.002*2.03] distinct minimizers: 1885 (100.00% are singletons); average occurrences: 1.000; average spacing: 5.305\n",
      "[M::worker_pipeline::2.611*2.33] mapped 19193 sequences\n",
      "[M::main] Version: 2.14-r886-dirty\n",
      "[M::main] CMD: minimap2 -a links/contig_2-contig_1+ ../Assembly/Sampled Reads/sd_0004.fastq\n",
      "[M::main] Real time: 2.611 sec; CPU: 6.084 sec; Peak RSS: 0.491 GB\n"
     ]
    }
   ],
   "source": [
    "# for links\n",
    "links_path = \"./links/\"\n",
    "paths = Path(links_path).glob('**/*')\n",
    "\n",
    "for p in [str(p) for p in paths]:\n",
    "    print(\"INFO:: Checking link\", p)\n",
    "    !minimap2 -a \"$p\" \"$reads_path\" > out.txt\n",
    "    !samtools sort out.txt > out.sorted.txt\n",
    "    !samtools depth out.sorted.txt > out.txt \n",
    "    \n",
    "    covereage_vals = !cut -f3 out.txt\n",
    "\n",
    "    !rm out.txt out.sorted.txt\n",
    "    \n",
    "    contigs_coverages.append({'name': p, 'coverages': covereage_vals})"
   ]
  },
  {
   "cell_type": "code",
   "execution_count": 75,
   "metadata": {},
   "outputs": [
    {
     "name": "stdout",
     "output_type": "stream",
     "text": [
      "name contigs/contig_3 mean 48.824345946075674 std 7.357649532867539\n",
      "name contigs/contig_2 mean 51.54790862465534 std 10.38956648320026\n",
      "name contigs/contig_1 mean 102.2143936 std 9.196484729736632\n",
      "name links/contig_1+contig_1+ mean 103.7281 std 8.163379838645266\n",
      "name links/contig_2-contig_3+ mean 77.2774 std 27.446949725607034\n",
      "name links/contig_1+contig_3+ mean 73.4377 std 23.53335757409044\n",
      "name links/contig_2-contig_1+ mean 107.567 std 5.825316386257488\n"
     ]
    }
   ],
   "source": [
    "for cov in contigs_coverages:\n",
    "    np_cov = np.array(cov['coverages'])\n",
    "    np_cov = cov['coverages'] = np_cov.astype(np.float)\n",
    "    print (\"name\", cov['name'], \"mean\", np_cov.mean(), \"std\", np_cov.std())\n",
    "    "
   ]
  },
  {
   "cell_type": "code",
   "execution_count": 146,
   "metadata": {},
   "outputs": [
    {
     "name": "stdout",
     "output_type": "stream",
     "text": [
      "contigs/contig_3\n",
      "Considering 2- -> 1+\n",
      "Chance of 2-1+ over 2-3+ 0.9999999979576455\n",
      "Chance of 2-3+ over 2-1+ 2.042354573456805e-09\n"
     ]
    }
   ],
   "source": [
    "print(contigs_coverages[0]['name'])\n",
    "\n",
    "\n",
    "from scipy.stats import norm\n",
    "\n",
    "name, data = contigs_coverages[0][\"name\"], contigs_coverages[0][\"coverages\"]\n",
    "\n",
    "xx = norm.fit(data)\n",
    "\n",
    "print(\"Considering 2- -> 1+\")\n",
    "'''2- 1+'''\n",
    "mc_2 = 51.54790862465534\n",
    "std_c2 = 10.38956648320026\n",
    "\n",
    "mc_1 = 102.2143936\n",
    "std_c1 = 9.196484729736632\n",
    "\n",
    "mc_3 = 48.824345946075674\n",
    "std_c3 = 7.357649532867539\n",
    "\n",
    "pl21_c2c1 = norm.pdf(107.567, loc=mc_2,scale=std_c2) * norm.pdf(107.567, loc=mc_1,scale=std_c1)\n",
    "\n",
    "pl23_c2c3 = norm.pdf(77.2774, loc=mc_2,scale=std_c2) * norm.pdf(107.567, loc=mc_3,scale=std_c3)\n",
    "\n",
    "pl13_c1c3 = norm.pdf(73.4377, loc=mc_1,scale=std_c2) * norm.pdf(107.567, loc=mc_3,scale=std_c3)\n",
    "\n",
    "\n",
    "print(\"Chance of 2-1+ over 2-3+\", pl21_c2c1 / (pl21_c2c1 + pl23_c2c3))\n",
    "\n",
    "print(\"Chance of 2-3+ over 2-1+\", pl23_c2c3 / (pl21_c2c1 + pl23_c2c3))\n",
    "\n",
    "# print(pl21_c2c1 / (pl21_c2c1 + pl13_c1c3))\n",
    "\n",
    "# print(pl21_c2c1, pl23_c2c3)\n",
    "# p1 = poisson.pmf(51.54790862465534, xx[0])\n",
    "\n",
    "\n",
    "# p1 = norm.pdf(49.5, loc=xx[0],scale=[1])\n",
    "# print(norm.pdf(50, loc=xx[0],scale=[1]), xx)\n",
    "# print(poisson.pmf(77, xx[0]))\n"
   ]
  },
  {
   "cell_type": "code",
   "execution_count": null,
   "metadata": {},
   "outputs": [],
   "source": []
  }
 ],
 "metadata": {
  "kernelspec": {
   "display_name": "Python 3",
   "language": "python",
   "name": "python3"
  },
  "language_info": {
   "codemirror_mode": {
    "name": "ipython",
    "version": 3
   },
   "file_extension": ".py",
   "mimetype": "text/x-python",
   "name": "python",
   "nbconvert_exporter": "python",
   "pygments_lexer": "ipython3",
   "version": "3.6.5"
  }
 },
 "nbformat": 4,
 "nbformat_minor": 2
}
