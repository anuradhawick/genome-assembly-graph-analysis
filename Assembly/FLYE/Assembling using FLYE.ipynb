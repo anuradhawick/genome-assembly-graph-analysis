{
 "cells": [
  {
   "cell_type": "markdown",
   "metadata": {},
   "source": [
    "# Running Assembly Using FLYE"
   ]
  },
  {
   "cell_type": "code",
   "execution_count": 1,
   "metadata": {
    "scrolled": false
   },
   "outputs": [
    {
     "name": "stdout",
     "output_type": "stream",
     "text": [
      "[2018-11-05 14:43:49] INFO: Running Flye 2.3.6-release\n",
      "[2018-11-05 14:43:49] INFO: Configuring run\n",
      "[2018-11-05 14:43:50] INFO: Input genome size: 5000000\n",
      "[2018-11-05 14:43:50] INFO: Estimated coverage: 200\n",
      "[2018-11-05 14:43:50] INFO: Reads N50/N90: 12541 / 10374\n",
      "[2018-11-05 14:43:50] INFO: Minimum overlap set to 5000\n",
      "[2018-11-05 14:43:50] INFO: Selected k-mer size: 15\n",
      "[2018-11-05 14:43:50] INFO: Assembling reads\n",
      "[2018-11-05 14:43:50] INFO: Reading sequences\n",
      "[2018-11-05 14:43:52] INFO: Generating solid k-mer index\n",
      "[2018-11-05 14:44:05] INFO: Counting kmers (1/2):\n",
      "0% 10% 20% 30% 40% 50% 60% 70% 80% 90% 100% \n",
      "[2018-11-05 14:45:57] INFO: Counting kmers (2/2):\n",
      "0% 10% 20% 30% 40% 50% 60% 70% 80% 90% 100% \n",
      "[2018-11-05 14:49:14] INFO: Filling index table\n",
      "0% 10% 20% 30% 40% 50% 60% 70% 80% 90% 100% \n",
      "[2018-11-05 14:52:23] INFO: Extending reads\n",
      "[2018-11-05 14:54:52] INFO: Overlap-based coverage: 90\n",
      "[2018-11-05 14:54:52] INFO: Median overlap divergence: 0.000971429\n",
      "0% 10% 20% 30% 40% 50% 60% 70% 80% 90% 100% \n",
      "[2018-11-05 15:04:08] INFO: Assembled 16 draft contigs\n",
      "[2018-11-05 15:04:08] INFO: Generating contig sequences\n",
      "0% 10% 20% 30% 40% 50% 60% 70% 80% 90% 100% \n",
      "[2018-11-05 15:12:26] INFO: Running Minimap2\n",
      "[2018-11-05 15:16:23] INFO: Computing consensus\n",
      "[2018-11-05 15:22:58] INFO: Alignment error rate: 8.54196583985e-08\n",
      "[2018-11-05 15:22:58] INFO: Performing repeat analysis\n",
      "[2018-11-05 15:22:58] INFO: Reading sequences\n",
      "[2018-11-05 15:23:00] INFO: Building repeat graph\n",
      "0% 10% 20% 30% 40% 50% 60% 70% 80% 90% 100% \n",
      "[2018-11-05 15:23:27] INFO: Median overlap divergence: 0\n",
      "[2018-11-05 15:23:27] INFO: Aligning reads to the graph\n",
      "0% 10% 20% 30% 40% 50% 60% 70% 80% 90% 100% \n",
      "[2018-11-05 15:38:50] INFO: Aligned read sequence: 999743490 / 1000007361 (0.999736)\n",
      "[2018-11-05 15:38:50] INFO: Median overlap divergence: 0\n",
      "[2018-11-05 15:38:50] INFO: Mean edge coverage: 80\n",
      "[2018-11-05 15:38:50] INFO: Resolving repeats\n",
      "[2018-11-05 15:38:50] INFO: Generating contigs\n",
      "[2018-11-05 15:38:50] INFO: Generated 6 contigs\n",
      "[2018-11-05 15:38:50] INFO: Polishing genome (1/1)\n",
      "[2018-11-05 15:38:50] INFO: Running minimap2\n",
      "[2018-11-05 15:42:36] INFO: Separating alignment into bubbles\n",
      "[2018-11-05 15:52:00] INFO: Alignment error rate: 5.7385008412e-08\n",
      "[2018-11-05 15:52:00] INFO: Correcting bubbles\n",
      "0% 10% 20% 30% 40% 50% 60% 70% 80% 90% 100% \n",
      "[2018-11-05 16:02:15] INFO: Assembly statistics:\n",
      "\n",
      "\tTotal length:\t12373759\n",
      "\tContigs:\t6\n",
      "\tScaffolds:\t6\n",
      "\tScaffolds N50:\t2249966\n",
      "\tLargest scf:\t2749473\n",
      "\tMean coverage:\t80\n",
      "\n",
      "[2018-11-05 16:02:15] INFO: Final assembly: /media/anuradhawick/data/Experiments/Assembly Graph/Out FLYE/scaffolds.fasta\n"
     ]
    }
   ],
   "source": [
    "![ -e 'Out FLYE' ] && rm -r 'Out FLYE'\n",
    "!mkdir 'Out FLYE'\n",
    "\n",
    "!/media/anuradhawick/data/Tools/Flye-2.3.6/bin/flye \\\n",
    "--pacbio-raw 'Sampled Reads/sd_0001.fastq' 'Sampled Reads/sd_0002.fastq' 'Sampled Reads/sd_0003.fastq' 'Sampled Reads/sd_0004.fastq' \\\n",
    "--out-dir 'Out FLYE' \\\n",
    "--genome-size 5m"
   ]
  },
  {
   "cell_type": "markdown",
   "metadata": {},
   "source": [
    "# Generating Assembly Graph"
   ]
  },
  {
   "cell_type": "code",
   "execution_count": 20,
   "metadata": {},
   "outputs": [],
   "source": [
    "!cd 'Out FLYE' && /media/anuradhawick/data/Tools/Bandage/Bandage_Ubuntu_dynamic_v0_8_1/Bandage \\\n",
    "image assembly_graph.gfa ../image_graph_flye.png --names --lengths --depth --height 1080 --fontsize 3"
   ]
  },
  {
   "cell_type": "markdown",
   "metadata": {},
   "source": [
    "## Graph\n",
    "![title](image_graph_flye.png)"
   ]
  },
  {
   "cell_type": "markdown",
   "metadata": {},
   "source": [
    "# Assembly on Reads Without Mixing"
   ]
  },
  {
   "cell_type": "markdown",
   "metadata": {},
   "source": [
    "## Readings G1"
   ]
  },
  {
   "cell_type": "code",
   "execution_count": 2,
   "metadata": {
    "scrolled": false
   },
   "outputs": [
    {
     "name": "stdout",
     "output_type": "stream",
     "text": [
      "[2018-11-07 09:53:24] INFO: Running Flye 2.3.6-release\n",
      "[2018-11-07 09:53:24] INFO: Configuring run\n",
      "[2018-11-07 09:53:24] INFO: Input genome size: 5000000\n",
      "[2018-11-07 09:53:24] INFO: Estimated coverage: 50\n",
      "[2018-11-07 09:53:24] INFO: Reads N50/N90: 12533 / 10366\n",
      "[2018-11-07 09:53:24] INFO: Minimum overlap set to 5000\n",
      "[2018-11-07 09:53:24] INFO: Selected k-mer size: 15\n",
      "[2018-11-07 09:53:24] INFO: Assembling reads\n",
      "[2018-11-07 09:53:24] INFO: Reading sequences\n",
      "[2018-11-07 09:53:24] INFO: Generating solid k-mer index\n",
      "[2018-11-07 09:53:37] INFO: Counting kmers (1/2):\n",
      "0% 10% 20% 30% 40% 50% 60% 70% 80% 90% 100% \n",
      "[2018-11-07 09:54:03] INFO: Counting kmers (2/2):\n",
      "0% 10% 20% 30% 40% 50% 60% 70% 80% 90% 100% \n",
      "[2018-11-07 09:54:51] WARNING: Unable to separate erroneous k-mers from solid k-mers. Possible reasons: \n",
      "\t(1) Incorrect expected assembly size parameter \n",
      "\t(2) Highly uneven coverage of the assembly \n",
      "\t(3) Running with error-corrected reads in raw reads mode\n",
      "\tAssembly will continue, but results might not be optimal\n",
      "[2018-11-07 09:54:51] INFO: Filling index table\n",
      "0% 10% 20% 30% 40% 50% 60% 70% 80% 90% 100% \n",
      "[2018-11-07 09:55:41] INFO: Extending reads\n",
      "[2018-11-07 09:57:53] INFO: Overlap-based coverage: 75\n",
      "[2018-11-07 09:57:53] INFO: Median overlap divergence: 0\n",
      "0% 10% 20% 30% 40% 50% 60% 70% 80% 90% 100% \n",
      "[2018-11-07 10:00:39] INFO: Assembled 2 draft contigs\n",
      "[2018-11-07 10:00:39] INFO: Generating contig sequences\n",
      "0% 10% 20% 30% 40% 50% 60% 70% 80% 90% 100% \n",
      "[2018-11-07 10:02:58] INFO: Running Minimap2\n",
      "[2018-11-07 10:03:55] INFO: Computing consensus\n",
      "[2018-11-07 10:05:32] INFO: Alignment error rate: 0.0\n",
      "[2018-11-07 10:05:32] INFO: Performing repeat analysis\n",
      "[2018-11-07 10:05:32] INFO: Reading sequences\n",
      "[2018-11-07 10:05:33] INFO: Building repeat graph\n",
      "20% 50% 70% 100% \n",
      "[2018-11-07 10:05:48] INFO: Median overlap divergence: 0\n",
      "[2018-11-07 10:05:48] INFO: Aligning reads to the graph\n",
      "0% 10% 20% 30% 40% 50% 60% 70% 80% 90% 100% \n",
      "[2018-11-07 10:09:12] INFO: Aligned read sequence: 249949326 / 250000000 (0.999797)\n",
      "[2018-11-07 10:09:12] INFO: Median overlap divergence: 0\n",
      "[2018-11-07 10:09:12] INFO: Mean edge coverage: 70\n",
      "[2018-11-07 10:09:13] INFO: Resolving repeats\n",
      "[2018-11-07 10:09:13] INFO: Generating contigs\n",
      "[2018-11-07 10:09:13] INFO: Generated 2 contigs\n",
      "[2018-11-07 10:09:13] INFO: Polishing genome (1/1)\n",
      "[2018-11-07 10:09:13] INFO: Running minimap2\n",
      "[2018-11-07 10:10:08] INFO: Separating alignment into bubbles\n",
      "[2018-11-07 10:12:32] INFO: Alignment error rate: 0.0\n",
      "[2018-11-07 10:12:32] INFO: Correcting bubbles\n",
      "0% 10% 20% 30% 40% 50% 60% 70% 80% 90% 100% \n",
      "[2018-11-07 10:15:20] INFO: Assembly statistics:\n",
      "\n",
      "\tTotal length:\t3499975\n",
      "\tContigs:\t2\n",
      "\tScaffolds:\t2\n",
      "\tScaffolds N50:\t1999955\n",
      "\tLargest scf:\t1999955\n",
      "\tMean coverage:\t70\n",
      "\n",
      "[2018-11-07 10:15:20] INFO: Final assembly: /media/anuradhawick/data/Experiments/Assembly Graph/Out FLYE_1/scaffolds.fasta\n"
     ]
    }
   ],
   "source": [
    "![ -e 'Out FLYE_1' ] && rm -r 'Out FLYE_1'\n",
    "!mkdir 'Out FLYE_1'\n",
    "\n",
    "!/media/anuradhawick/data/Tools/Flye-2.3.6/bin/flye \\\n",
    "--pacbio-raw 'Sampled Reads/sd_0001.fastq' \\\n",
    "--out-dir 'Out FLYE_1' \\\n",
    "--genome-size 5m\n",
    "\n",
    "!cd 'Out FLYE_1' && /media/anuradhawick/data/Tools/Bandage/Bandage_Ubuntu_dynamic_v0_8_1/Bandage \\\n",
    "image assembly_graph.gfa ../image_graph_flye_R1.png --names --lengths --depth --height 1080 --fontsize 3"
   ]
  },
  {
   "cell_type": "markdown",
   "metadata": {},
   "source": [
    "## Graph\n",
    "![title](image_graph_flye_R1.png)"
   ]
  },
  {
   "cell_type": "markdown",
   "metadata": {},
   "source": [
    "## Readings G2"
   ]
  },
  {
   "cell_type": "code",
   "execution_count": 3,
   "metadata": {
    "scrolled": false
   },
   "outputs": [
    {
     "name": "stdout",
     "output_type": "stream",
     "text": [
      "[2018-11-07 10:15:20] INFO: Running Flye 2.3.6-release\n",
      "[2018-11-07 10:15:20] INFO: Configuring run\n",
      "[2018-11-07 10:15:21] INFO: Input genome size: 5000000\n",
      "[2018-11-07 10:15:21] INFO: Estimated coverage: 50\n",
      "[2018-11-07 10:15:21] INFO: Reads N50/N90: 12545 / 10385\n",
      "[2018-11-07 10:15:21] INFO: Minimum overlap set to 5000\n",
      "[2018-11-07 10:15:21] INFO: Selected k-mer size: 15\n",
      "[2018-11-07 10:15:21] INFO: Assembling reads\n",
      "[2018-11-07 10:15:21] INFO: Reading sequences\n",
      "[2018-11-07 10:15:21] INFO: Generating solid k-mer index\n",
      "[2018-11-07 10:15:34] INFO: Counting kmers (1/2):\n",
      "0% 10% 20% 30% 40% 50% 60% 70% 80% 90% 100% \n",
      "[2018-11-07 10:15:58] INFO: Counting kmers (2/2):\n",
      "0% 10% 20% 30% 40% 50% 60% 70% 80% 90% 100% \n",
      "[2018-11-07 10:16:47] WARNING: Unable to separate erroneous k-mers from solid k-mers. Possible reasons: \n",
      "\t(1) Incorrect expected assembly size parameter \n",
      "\t(2) Highly uneven coverage of the assembly \n",
      "\t(3) Running with error-corrected reads in raw reads mode\n",
      "\tAssembly will continue, but results might not be optimal\n",
      "[2018-11-07 10:16:47] INFO: Filling index table\n",
      "0% 10% 20% 30% 40% 50% 60% 70% 80% 90% 100% \n",
      "[2018-11-07 10:17:35] INFO: Extending reads\n",
      "[2018-11-07 10:18:59] INFO: Overlap-based coverage: 45\n",
      "[2018-11-07 10:18:59] INFO: Median overlap divergence: 0\n",
      "0% 10% 20% 30% 40% 50% 60% 70% 80% 90% 100% \n",
      "[2018-11-07 10:21:13] INFO: Assembled 1 draft contigs\n",
      "[2018-11-07 10:21:13] INFO: Generating contig sequences\n",
      "0% 10% 20% 30% 40% 50% 60% 70% 80% 90% 100% \n",
      "[2018-11-07 10:24:11] INFO: Running Minimap2\n",
      "[2018-11-07 10:25:07] INFO: Computing consensus\n",
      "[2018-11-07 10:26:49] INFO: Alignment error rate: 0.0\n",
      "[2018-11-07 10:26:49] INFO: Performing repeat analysis\n",
      "[2018-11-07 10:26:49] INFO: Reading sequences\n",
      "[2018-11-07 10:26:49] INFO: Building repeat graph\n",
      "50% 100% \n",
      "[2018-11-07 10:27:06] INFO: Median overlap divergence: 0\n",
      "[2018-11-07 10:27:06] INFO: Aligning reads to the graph\n",
      "0% 10% 20% 30% 40% 50% 60% 70% 80% 90% 100% \n",
      "[2018-11-07 10:30:31] INFO: Aligned read sequence: 249946144 / 250000000 (0.999785)\n",
      "[2018-11-07 10:30:31] INFO: Median overlap divergence: 0\n",
      "[2018-11-07 10:30:32] INFO: Mean edge coverage: 49\n",
      "[2018-11-07 10:30:32] INFO: Resolving repeats\n",
      "[2018-11-07 10:30:32] INFO: Generating contigs\n",
      "[2018-11-07 10:30:32] INFO: Generated 1 contigs\n",
      "[2018-11-07 10:30:32] INFO: Polishing genome (1/1)\n",
      "[2018-11-07 10:30:32] INFO: Running minimap2\n",
      "[2018-11-07 10:31:28] INFO: Separating alignment into bubbles\n",
      "[2018-11-07 10:33:56] INFO: Alignment error rate: 0.0\n",
      "[2018-11-07 10:33:56] INFO: Correcting bubbles\n",
      "0% 10% 20% 30% 40% 50% 60% 70% 80% 90% 100% \n",
      "[2018-11-07 10:37:57] INFO: Assembly statistics:\n",
      "\n",
      "\tTotal length:\t4999484\n",
      "\tContigs:\t1\n",
      "\tScaffolds:\t1\n",
      "\tScaffolds N50:\t4999484\n",
      "\tLargest scf:\t4999484\n",
      "\tMean coverage:\t49\n",
      "\n",
      "[2018-11-07 10:37:57] INFO: Final assembly: /media/anuradhawick/data/Experiments/Assembly Graph/Out FLYE_2/scaffolds.fasta\n"
     ]
    }
   ],
   "source": [
    "![ -e 'Out FLYE_2' ] && rm -r 'Out FLYE_2'\n",
    "!mkdir 'Out FLYE_2'\n",
    "\n",
    "!/media/anuradhawick/data/Tools/Flye-2.3.6/bin/flye \\\n",
    "--pacbio-raw 'Sampled Reads/sd_0002.fastq' \\\n",
    "--out-dir 'Out FLYE_2' \\\n",
    "--genome-size 5m\n",
    "\n",
    "!cd 'Out FLYE_2' && /media/anuradhawick/data/Tools/Bandage/Bandage_Ubuntu_dynamic_v0_8_1/Bandage \\\n",
    "image assembly_graph.gfa ../image_graph_flye_R2.png --names --lengths --depth --height 1080 --fontsize 3"
   ]
  },
  {
   "cell_type": "markdown",
   "metadata": {},
   "source": [
    "## Graph\n",
    "![title](image_graph_flye_R2.png)"
   ]
  },
  {
   "cell_type": "markdown",
   "metadata": {},
   "source": [
    "## Readings G3"
   ]
  },
  {
   "cell_type": "code",
   "execution_count": 5,
   "metadata": {},
   "outputs": [
    {
     "name": "stdout",
     "output_type": "stream",
     "text": [
      "[2018-11-07 10:46:08] INFO: Running Flye 2.3.6-release\n",
      "[2018-11-07 10:46:08] INFO: Configuring run\n",
      "[2018-11-07 10:46:08] INFO: Input genome size: 5000000\n",
      "[2018-11-07 10:46:08] INFO: Estimated coverage: 50\n",
      "[2018-11-07 10:46:08] INFO: Reads N50/N90: 12567 / 10368\n",
      "[2018-11-07 10:46:08] INFO: Minimum overlap set to 5000\n",
      "[2018-11-07 10:46:08] INFO: Selected k-mer size: 15\n",
      "[2018-11-07 10:46:08] INFO: Assembling reads\n",
      "[2018-11-07 10:46:08] INFO: Reading sequences\n",
      "[2018-11-07 10:46:09] INFO: Generating solid k-mer index\n",
      "[2018-11-07 10:46:21] INFO: Counting kmers (1/2):\n",
      "0% 10% 20% 30% 40% 50% 60% 70% 80% 90% 100% \n",
      "[2018-11-07 10:46:48] INFO: Counting kmers (2/2):\n",
      "0% 10% 20% 30% 40% 50% 60% 70% 80% 90% 100% \n",
      "[2018-11-07 10:47:38] WARNING: Unable to separate erroneous k-mers from solid k-mers. Possible reasons: \n",
      "\t(1) Incorrect expected assembly size parameter \n",
      "\t(2) Highly uneven coverage of the assembly \n",
      "\t(3) Running with error-corrected reads in raw reads mode\n",
      "\tAssembly will continue, but results might not be optimal\n",
      "[2018-11-07 10:47:38] INFO: Filling index table\n",
      "0% 10% 20% 30% 40% 50% 60% 70% 80% 90% 100% \n",
      "[2018-11-07 10:48:34] INFO: Extending reads\n",
      "[2018-11-07 10:50:06] INFO: Overlap-based coverage: 45\n",
      "[2018-11-07 10:50:06] INFO: Median overlap divergence: 0\n",
      "0% 10% 20% 30% 40% 50% 60% 70% 80% 90% 100% \n",
      "[2018-11-07 10:52:22] INFO: Assembled 1 draft contigs\n",
      "[2018-11-07 10:52:22] INFO: Generating contig sequences\n",
      "0% 10% 20% 30% 40% 50% 60% 70% 80% 90% 100% \n",
      "[2018-11-07 10:55:18] INFO: Running Minimap2\n",
      "[2018-11-07 10:56:15] INFO: Computing consensus\n",
      "[2018-11-07 10:57:59] INFO: Alignment error rate: 0.0\n",
      "[2018-11-07 10:57:59] INFO: Performing repeat analysis\n",
      "[2018-11-07 10:57:59] INFO: Reading sequences\n",
      "[2018-11-07 10:58:00] INFO: Building repeat graph\n",
      "50% 100% \n",
      "[2018-11-07 10:58:16] INFO: Median overlap divergence: 0\n",
      "[2018-11-07 10:58:16] INFO: Aligning reads to the graph\n",
      "0% 10% 20% 30% 40% 50% 60% 70% 80% 90% 100% \n",
      "[2018-11-07 11:01:52] INFO: Aligned read sequence: 249956797 / 250000000 (0.999827)\n",
      "[2018-11-07 11:01:52] INFO: Median overlap divergence: 0\n",
      "[2018-11-07 11:01:53] INFO: Mean edge coverage: 49\n",
      "[2018-11-07 11:01:53] INFO: Resolving repeats\n",
      "[2018-11-07 11:01:53] INFO: Generating contigs\n",
      "[2018-11-07 11:01:53] INFO: Generated 1 contigs\n",
      "[2018-11-07 11:01:53] INFO: Polishing genome (1/1)\n",
      "[2018-11-07 11:01:53] INFO: Running minimap2\n",
      "[2018-11-07 11:02:51] INFO: Separating alignment into bubbles\n",
      "[2018-11-07 11:05:24] INFO: Alignment error rate: 0.0\n",
      "[2018-11-07 11:05:24] INFO: Correcting bubbles\n",
      "0% 10% 20% 30% 40% 50% 60% 70% 80% 90% 100% \n",
      "[2018-11-07 11:09:21] INFO: Assembly statistics:\n",
      "\n",
      "\tTotal length:\t4999439\n",
      "\tContigs:\t1\n",
      "\tScaffolds:\t1\n",
      "\tScaffolds N50:\t4999439\n",
      "\tLargest scf:\t4999439\n",
      "\tMean coverage:\t49\n",
      "\n",
      "[2018-11-07 11:09:21] INFO: Final assembly: /media/anuradhawick/data/Experiments/Assembly Graph/Out FLYE_3/scaffolds.fasta\n"
     ]
    }
   ],
   "source": [
    "![ -e 'Out FLYE_3' ] && rm -r 'Out FLYE_3'\n",
    "!mkdir 'Out FLYE_3'\n",
    "\n",
    "!/media/anuradhawick/data/Tools/Flye-2.3.6/bin/flye \\\n",
    "--pacbio-raw 'Sampled Reads/sd_0003.fastq' \\\n",
    "--out-dir 'Out FLYE_3' \\\n",
    "--genome-size 5m\n",
    "\n",
    "!cd 'Out FLYE_3' && /media/anuradhawick/data/Tools/Bandage/Bandage_Ubuntu_dynamic_v0_8_1/Bandage \\\n",
    "image assembly_graph.gfa ../image_graph_flye_R3.png --names --lengths --depth --height 1080 --fontsize 3"
   ]
  },
  {
   "cell_type": "markdown",
   "metadata": {},
   "source": [
    "## Graph\n",
    "![title](image_graph_flye_R3.png)"
   ]
  },
  {
   "cell_type": "markdown",
   "metadata": {},
   "source": [
    "## Readings G4"
   ]
  },
  {
   "cell_type": "code",
   "execution_count": 1,
   "metadata": {},
   "outputs": [
    {
     "name": "stdout",
     "output_type": "stream",
     "text": [
      "[2018-11-13 12:38:03] INFO: Running Flye 2.3.6-release\n",
      "[2018-11-13 12:38:03] INFO: Configuring run\n",
      "[2018-11-13 12:38:03] INFO: Input genome size: 5000000\n",
      "[2018-11-13 12:38:03] INFO: Estimated coverage: 50\n",
      "[2018-11-13 12:38:03] INFO: Reads N50/N90: 12533 / 10364\n",
      "[2018-11-13 12:38:03] INFO: Minimum overlap set to 5000\n",
      "[2018-11-13 12:38:03] INFO: Selected k-mer size: 15\n",
      "[2018-11-13 12:38:03] INFO: Assembling reads\n",
      "[2018-11-13 12:38:03] INFO: Reading sequences\n",
      "[2018-11-13 12:38:03] INFO: Generating solid k-mer index\n",
      "[2018-11-13 12:38:16] INFO: Counting kmers (1/2):\n",
      "0% 10% 20% 30% 40% 50% 60% 70% 80% 90% 100% \n",
      "[2018-11-13 12:38:43] INFO: Counting kmers (2/2):\n",
      "0% 10% 20% 30% 40% 50% 60% 70% 80% 90% 100% \n",
      "[2018-11-13 12:39:37] WARNING: Unable to separate erroneous k-mers from solid k-mers. Possible reasons: \n",
      "\t(1) Incorrect expected assembly size parameter \n",
      "\t(2) Highly uneven coverage of the assembly \n",
      "\t(3) Running with error-corrected reads in raw reads mode\n",
      "\tAssembly will continue, but results might not be optimal\n",
      "[2018-11-13 12:39:37] INFO: Filling index table\n",
      "0% 10% 20% 30% 40% 50% 60% 70% 80% 90% 100% \n",
      "[2018-11-13 12:40:30] INFO: Extending reads\n",
      "[2018-11-13 12:42:23] INFO: Overlap-based coverage: 49\n",
      "[2018-11-13 12:42:23] INFO: Median overlap divergence: 0\n",
      "0% 10% 20% 30% 40% 50% 60% 70% 80% 90% 100% \n",
      "[2018-11-13 12:45:30] INFO: Assembled 11 draft contigs\n",
      "[2018-11-13 12:45:30] INFO: Generating contig sequences\n",
      "0% 10% 20% 30% 40% 50% 60% 70% 80% 90% 100% \n",
      "[2018-11-13 12:48:19] INFO: Running Minimap2\n",
      "[2018-11-13 12:49:21] INFO: Computing consensus\n",
      "[2018-11-13 12:51:03] INFO: Alignment error rate: 0.0\n",
      "[2018-11-13 12:51:03] INFO: Performing repeat analysis\n",
      "[2018-11-13 12:51:03] INFO: Reading sequences\n",
      "[2018-11-13 12:51:04] INFO: Building repeat graph\n",
      "0% 10% 20% 30% 40% 50% 60% 70% 80% 90% 100% \n",
      "[2018-11-13 12:51:21] INFO: Median overlap divergence: 0\n",
      "[2018-11-13 12:51:21] INFO: Aligning reads to the graph\n",
      "0% 10% 20% 30% 40% 50% 60% 70% 80% 90% 100% \n",
      "[2018-11-13 12:54:46] INFO: Aligned read sequence: 249960651 / 250006004 (0.999819)\n",
      "[2018-11-13 12:54:46] INFO: Median overlap divergence: 0\n",
      "[2018-11-13 12:54:47] INFO: Mean edge coverage: 56\n",
      "[2018-11-13 12:54:47] INFO: Resolving repeats\n",
      "[2018-11-13 12:54:47] INFO: Generating contigs\n",
      "[2018-11-13 12:54:47] INFO: Generated 2 contigs\n",
      "[2018-11-13 12:54:47] INFO: Polishing genome (1/1)\n",
      "[2018-11-13 12:54:47] INFO: Running minimap2\n",
      "[2018-11-13 12:55:31] INFO: Separating alignment into bubbles\n",
      "[2018-11-13 12:57:24] INFO: Alignment error rate: 2.53865034541e-07\n",
      "[2018-11-13 12:57:24] INFO: Correcting bubbles\n",
      "0% 10% 20% 30% 40% 50% 60% 70% 80% 90% 100% \n",
      "[2018-11-13 13:00:25] INFO: Assembly statistics:\n",
      "\n",
      "\tTotal length:\t3766753\n",
      "\tContigs:\t2\n",
      "\tScaffolds:\t1\n",
      "\tScaffolds N50:\t3766753\n",
      "\tLargest scf:\t3766753\n",
      "\tMean coverage:\t50\n",
      "\n",
      "[2018-11-13 13:00:25] INFO: Final assembly: /media/anuradhawick/data/Experiments/Assembly Graph/Out FLYE_4/scaffolds.fasta\n"
     ]
    }
   ],
   "source": [
    "![ -e 'Out FLYE_4' ] && rm -r 'Out FLYE_4'\n",
    "!mkdir 'Out FLYE_4'\n",
    "\n",
    "!/media/anuradhawick/data/Tools/Flye-2.3.6/bin/flye \\\n",
    "--pacbio-raw 'Sampled Reads/sd_0004.fastq' \\\n",
    "--out-dir 'Out FLYE_4' \\\n",
    "--genome-size 5m\n",
    "\n",
    "!cd 'Out FLYE_4' && /media/anuradhawick/data/Tools/Bandage/Bandage_Ubuntu_dynamic_v0_8_1/Bandage \\\n",
    "image assembly_graph.gfa ../image_graph_flye_R4.png --names --lengths --depth --height 1080 --fontsize 3"
   ]
  },
  {
   "cell_type": "markdown",
   "metadata": {},
   "source": [
    "## Graph\n",
    "![title](image_graph_flye_R4.png)"
   ]
  }
 ],
 "metadata": {
  "kernelspec": {
   "display_name": "Python 3",
   "language": "python",
   "name": "python3"
  },
  "language_info": {
   "codemirror_mode": {
    "name": "ipython",
    "version": 3
   },
   "file_extension": ".py",
   "mimetype": "text/x-python",
   "name": "python",
   "nbconvert_exporter": "python",
   "pygments_lexer": "ipython3",
   "version": "3.6.5"
  }
 },
 "nbformat": 4,
 "nbformat_minor": 2
}
