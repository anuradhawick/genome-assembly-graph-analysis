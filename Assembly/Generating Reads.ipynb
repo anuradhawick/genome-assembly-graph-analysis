{
 "cells": [
  {
   "cell_type": "markdown",
   "metadata": {},
   "source": [
    "# Generating reads from four genomes of same length (5Mbp)"
   ]
  },
  {
   "cell_type": "markdown",
   "metadata": {},
   "source": [
    "## Fragment Preparation\n",
    "\n",
    "The genomes contains 8 fragments R1 to R8\n",
    "* G1 = R1 R3 R3\n",
    "* G2 = R2 R1 R4\n",
    "* G3 = R5 R2 R6\n",
    "* G4 = R7 R8 R8 R1\n",
    "\n",
    "Sizes of each of the fragment\n",
    "* R1 = 2000kbp\n",
    "* R2 = 1500kbp\n",
    "* R3 = 1500kbp\n",
    "* R4 = 1500kbp\n",
    "* R5 = 1250kbp\n",
    "* R6 = 2250kbp\n",
    "* R7 = 1750kbp\n",
    "* R8 = 625kbp\n",
    "\n",
    "## Fragment preparation function\n"
   ]
  },
  {
   "cell_type": "code",
   "execution_count": 1,
   "metadata": {},
   "outputs": [],
   "source": [
    "# python imports\n",
    "from random import choice\n",
    "\n",
    "# Biopython imports\n",
    "from Bio.Seq import Seq\n",
    "from Bio.SeqRecord import SeqRecord\n",
    "from Bio.Alphabet import DNAAlphabet\n",
    "from Bio import SeqIO\n",
    "import glob\n",
    "\n",
    "def createFrag(size):\n",
    "    DNA = \"\"\n",
    "    for count in range(size):\n",
    "        DNA += choice(\"CGTA\")\n",
    "    return DNA"
   ]
  },
  {
   "cell_type": "code",
   "execution_count": 10,
   "metadata": {},
   "outputs": [],
   "source": [
    "R1 = createFrag(2000 * 1000)\n",
    "R2 = createFrag(1500 * 1000)\n",
    "R3 = createFrag(1500 * 1000)\n",
    "R4 = createFrag(1500 * 1000)\n",
    "R5 = createFrag(1250 * 1000)\n",
    "R6 = createFrag(2250 * 1000)\n",
    "R7 = createFrag(1750 * 1000)\n",
    "R8 = createFrag(625 * 1000)\n",
    "\n",
    "G1 = R1 + R3 + R3\n",
    "G2 = R2 + R1 + R4\n",
    "G3 = R5 + R2 + R6\n",
    "G4 = R7 + R8 + R8 + R1"
   ]
  },
  {
   "cell_type": "markdown",
   "metadata": {},
   "source": [
    "## Create files for each genome"
   ]
  },
  {
   "cell_type": "code",
   "execution_count": 11,
   "metadata": {},
   "outputs": [
    {
     "data": {
      "text/plain": [
       "4"
      ]
     },
     "execution_count": 11,
     "metadata": {},
     "output_type": "execute_result"
    }
   ],
   "source": [
    "![ ! -e 'Sample_Genomes' ] && mkdir 'Sample_Genomes'\n",
    "\n",
    "# G1\n",
    "record1 = SeqRecord(Seq(G1, DNAAlphabet), id=\"G1\", description=\"Sample genome 1\")\n",
    "SeqIO.write(record1, \"./Sample_Genomes/G1.fa\", \"fasta\")\n",
    "# G2\n",
    "record2 = SeqRecord(Seq(G2, DNAAlphabet), id=\"G2\", description=\"Sample genome 2\")\n",
    "SeqIO.write(record2, \"./Sample_Genomes/G2.fa\", \"fasta\")\n",
    "# G3\n",
    "record3 = SeqRecord(Seq(G3, DNAAlphabet), id=\"G3\", description=\"Sample genome 3\")\n",
    "SeqIO.write(record3, \"./Sample_Genomes/G3.fa\", \"fasta\")\n",
    "# G4\n",
    "record4 = SeqRecord(Seq(G4, DNAAlphabet), id=\"G4\", description=\"Sample genome 4\")\n",
    "SeqIO.write(record4, \"./Sample_Genomes/G4.fa\", \"fasta\")\n",
    "\n",
    "SeqIO.write([record1, record2, record3, record4], \"./Sample Genomes/all-set.fa\", \"fasta\")"
   ]
  },
  {
   "cell_type": "markdown",
   "metadata": {},
   "source": [
    "## Creating Reads After Mixing Genomes"
   ]
  },
  {
   "cell_type": "code",
   "execution_count": 12,
   "metadata": {
    "scrolled": false
   },
   "outputs": [
    {
     "name": "stdout",
     "output_type": "stream",
     "text": [
      ":::: Simulation parameters :::\n",
      "\n",
      "Simulated by stochastic model.\n",
      "\n",
      "prefix : sd\n",
      "data-type : CLR\n",
      "depth : 50.000000\n",
      "length-mean : 3000.000000\n",
      "length-sd : 2300.000000\n",
      "length-min : 10000\n",
      "length-max : 30000\n",
      "accuracy-mean : 0.780000\n",
      "accuracy-sd : 0.020000\n",
      "accuracy-min : 0.750000\n",
      "accuracy-max : 1.000000\n",
      "difference-ratio : 0:0:0\n",
      "\n",
      "!! ref file /media/anuradhawick/data/Experiments/Assembly Graph/Assembly/Sample Genomes/all-set.fa\n",
      ":::: Reference stats ::::\n",
      "\n",
      "file name : /media/anuradhawick/data/Experiments/Assembly Graph/Assembly/Sample Genomes/all-set.fa\n",
      "\n",
      "ref.1 (len:5000000) : G1 Sample genome 1\n",
      "ref.2 (len:5000000) : G2 Sample genome 2\n",
      "ref.3 (len:5000000) : G3 Sample genome 3\n",
      "ref.4 (len:5000000) : G4 Sample genome 4\n",
      "\n",
      ":::: Simulation stats (ref.1 - name: G1 Sample genome 1) ::::\n",
      "\n",
      "read num. : 19164\n",
      "depth : 50.000680\n",
      "read length mean (SD) : 13045.470570 (3192.433938)\n",
      "read length min : 10000\n",
      "read length max : 29879\n",
      "read accuracy mean (SD) : 0.781444 (0.018242)\n",
      "substitution rate. : 0.000000\n",
      "insertion rate. : 0.000000\n",
      "deletion rate. : 0.000000\n",
      "\n",
      ":::: Simulation stats (ref.2 - name: G2 Sample genome 2) ::::\n",
      "\n",
      "read num. : 19180\n",
      "depth : 50.001202\n",
      "read length mean (SD) : 13034.724140 (3189.771158)\n",
      "read length min : 10000\n",
      "read length max : 29879\n",
      "read accuracy mean (SD) : 0.781649 (0.018348)\n",
      "substitution rate. : 0.000000\n",
      "insertion rate. : 0.000000\n",
      "deletion rate. : 0.000000\n",
      "\n",
      ":::: Simulation stats (ref.3 - name: G3 Sample genome 3) ::::\n",
      "\n",
      "read num. : 19179\n",
      "depth : 50.001879\n",
      "read length mean (SD) : 13035.580322 (3162.473607)\n",
      "read length min : 10000\n",
      "read length max : 29879\n",
      "read accuracy mean (SD) : 0.781465 (0.018142)\n",
      "substitution rate. : 0.000000\n",
      "insertion rate. : 0.000000\n",
      "deletion rate. : 0.000000\n",
      "\n",
      ":::: Simulation stats (ref.4 - name: G4 Sample genome 4) ::::\n",
      "\n",
      "read num. : 19193\n",
      "depth : 50.000000\n",
      "read length mean (SD) : 13025.582244 (3207.381409)\n",
      "read length min : 10000\n",
      "read length max : 29879\n",
      "read accuracy mean (SD) : 0.781535 (0.018248)\n",
      "substitution rate. : 0.000000\n",
      "insertion rate. : 0.000000\n",
      "deletion rate. : 0.000000\n",
      "\n",
      ":::: System utilization ::::\n",
      "\n",
      "CPU time(s) : 39\n",
      "Elapsed time(s) : 42\n"
     ]
    }
   ],
   "source": [
    "![ -e 'Sampled_Reads' ] && rm -r 'Sampled_Reads'\n",
    "!mkdir 'Sampled_Reads'\n",
    "\n",
    "!cd 'Sampled_Reads' && pbsim \\\n",
    "--data-type CLR \\\n",
    "--depth 50 \\\n",
    "--model_qc /media/anuradhawick/data/Tools/PBSIM-PacBio-Simulator/data/model_qc_clr \\\n",
    "--length-min 10000 \\\n",
    "--length-max 30000 \\\n",
    "--difference-ratio 0:0:0 \\\n",
    "'/media/anuradhawick/data/Experiments/Assembly_Graph/Assembly/Sample_Genomes/all-set.fa'"
   ]
  },
  {
   "cell_type": "markdown",
   "metadata": {},
   "source": [
    "## Mixing reads to a single FASTQ"
   ]
  },
  {
   "cell_type": "code",
   "execution_count": 13,
   "metadata": {},
   "outputs": [],
   "source": [
    "!cat 'Sampled_Reads/sd_0001.fastq' 'Sampled_Reads/sd_0002.fastq' 'Sampled_Reads/sd_0003.fastq' 'Sampled_Reads/sd_0004.fastq' > 'Sampled_Reads/all-in-one.fastq'\n",
    "!gzip -c -1 'Sampled_Reads/all-in-one.fastq' > 'Sampled_Reads/all-in-one.fastq.gz'\n",
    "\n",
    "!gzip -c -1 'Sampled_Reads/sd_0001.fastq' > 'Sampled_Reads/sd_0001.fastq.gz'\n",
    "!gzip -c -1 'Sampled_Reads/sd_0002.fastq' > 'Sampled_Reads/sd_0002.fastq.gz'\n",
    "!gzip -c -1 'Sampled_Reads/sd_0003.fastq' > 'Sampled_Reads/sd_0003.fastq.gz'\n",
    "!gzip -c -1 'Sampled_Reads/sd_0004.fastq' > 'Sampled_Reads/sd_0004.fastq.gz'"
   ]
  },
  {
   "cell_type": "markdown",
   "metadata": {},
   "source": [
    "# Generating Reads for SPAdes (CCS)"
   ]
  },
  {
   "cell_type": "code",
   "execution_count": 35,
   "metadata": {
    "scrolled": false
   },
   "outputs": [
    {
     "name": "stdout",
     "output_type": "stream",
     "text": [
      ":::: Simulation parameters :::\n",
      "\n",
      "Simulated by stochastic model.\n",
      "\n",
      "prefix : sd_ccs\n",
      "data-type : CLR\n",
      "depth : 50.000000\n",
      "length-mean : 3000.000000\n",
      "length-sd : 2300.000000\n",
      "length-min : 10000\n",
      "length-max : 30000\n",
      "accuracy-mean : 0.780000\n",
      "accuracy-sd : 0.020000\n",
      "accuracy-min : 0.750000\n",
      "accuracy-max : 1.000000\n",
      "difference-ratio : 0:0:0\n",
      "\n",
      "!! ref file /media/anuradhawick/data/Experiments/Assembly Graph/Sample Genomes/all-set.fa\n",
      ":::: Reference stats ::::\n",
      "\n",
      "file name : /media/anuradhawick/data/Experiments/Assembly Graph/Sample Genomes/all-set.fa\n",
      "\n",
      "ref.1 (len:5000000) : G1 Sample genome 1\n",
      "ref.2 (len:5000000) : G2 Sample genome 2\n",
      "ref.3 (len:5000000) : G3 Sample genome 3\n",
      "ref.4 (len:5000000) : G4 Sample genome 4\n",
      "\n",
      ":::: Simulation stats (ref.1 - name: G1 Sample genome 1) ::::\n",
      "\n",
      "read num. : 19146\n",
      "depth : 50.001312\n",
      "read length mean (SD) : 13057.900397 (3198.824039)\n",
      "read length min : 10000\n",
      "read length max : 29879\n",
      "read accuracy mean (SD) : 0.781542 (0.018263)\n",
      "substitution rate. : 0.000000\n",
      "insertion rate. : 0.000000\n",
      "deletion rate. : 0.000000\n",
      "\n",
      ":::: Simulation stats (ref.2 - name: G2 Sample genome 2) ::::\n",
      "\n",
      "read num. : 19242\n",
      "depth : 50.001257\n",
      "read length mean (SD) : 12992.739008 (3154.233351)\n",
      "read length min : 10000\n",
      "read length max : 29879\n",
      "read accuracy mean (SD) : 0.782031 (0.018434)\n",
      "substitution rate. : 0.000000\n",
      "insertion rate. : 0.000000\n",
      "deletion rate. : 0.000000\n",
      "\n",
      ":::: Simulation stats (ref.3 - name: G3 Sample genome 3) ::::\n",
      "\n",
      "read num. : 19207\n",
      "depth : 50.001800\n",
      "read length mean (SD) : 13016.556360 (3205.106475)\n",
      "read length min : 10000\n",
      "read length max : 29879\n",
      "read accuracy mean (SD) : 0.781651 (0.018244)\n",
      "substitution rate. : 0.000000\n",
      "insertion rate. : 0.000000\n",
      "deletion rate. : 0.000000\n",
      "\n",
      ":::: Simulation stats (ref.4 - name: G4 Sample genome 4) ::::\n",
      "\n",
      "read num. : 19287\n",
      "depth : 50.001879\n",
      "read length mean (SD) : 12962.585887 (3159.541719)\n",
      "read length min : 10000\n",
      "read length max : 29879\n",
      "read accuracy mean (SD) : 0.781974 (0.018436)\n",
      "substitution rate. : 0.000000\n",
      "insertion rate. : 0.000000\n",
      "deletion rate. : 0.000000\n",
      "\n",
      ":::: System utilization ::::\n",
      "\n",
      "CPU time(s) : 40\n",
      "Elapsed time(s) : 43\n"
     ]
    }
   ],
   "source": [
    "!cd 'Sampled_Reads' && pbsim \\\n",
    "--data-type CLR \\\n",
    "--prefix sd_ccs \\\n",
    "--depth 50 \\\n",
    "--model_qc /media/anuradhawick/data/Tools/PBSIM-PacBio-Simulator/data/model_qc_ccs \\\n",
    "--length-min 10000 \\\n",
    "--length-max 30000 \\\n",
    "--difference-ratio 0:0:0 \\\n",
    "'/media/anuradhawick/data/Experiments/Assembly_Graph/Sample_Genomes/all-set.fa'"
   ]
  },
  {
   "cell_type": "markdown",
   "metadata": {},
   "source": [
    "## Mixing CC reads to a single FASTQ"
   ]
  },
  {
   "cell_type": "code",
   "execution_count": 37,
   "metadata": {},
   "outputs": [],
   "source": [
    "!cat 'Sampled_Reads/sd_ccs_0001.fastq' 'Sampled_Reads/sd_ccs_0002.fastq' 'Sampled_Reads/sd_ccs_0003.fastq' 'Sampled_Reads/sd_ccs_0004.fastq' > 'Sampled Reads/all-in-one_ccs.fastq'\n",
    "!gzip -c -1 'Sampled Reads/all-in-one_ccs.fastq' > 'Sampled Reads/all-in-one_ccs.fastq.gz'\n",
    "\n",
    "!gzip -c -1 'Sampled_Reads/sd_ccs_0001.fastq' > 'Sampled_Reads/sd_ccs_0001.fastq.gz'\n",
    "!gzip -c -1 'Sampled_Reads/sd_ccs_0002.fastq' > 'Sampled_Reads/sd_ccs_0002.fastq.gz'\n",
    "!gzip -c -1 'Sampled_Reads/sd_ccs_0003.fastq' > 'Sampled_Reads/sd_ccs_0003.fastq.gz'\n",
    "!gzip -c -1 'Sampled_Reads/sd_ccs_0004.fastq' > 'Sampled_Reads/sd_ccs_0004.fastq.gz'"
   ]
  },
  {
   "cell_type": "markdown",
   "metadata": {},
   "source": [
    "# Generating reads from E. Coli"
   ]
  },
  {
   "cell_type": "code",
   "execution_count": 5,
   "metadata": {
    "scrolled": false
   },
   "outputs": [
    {
     "name": "stdout",
     "output_type": "stream",
     "text": [
      ":::: Simulation parameters :::\n",
      "\n",
      "Simulated by stochastic model.\n",
      "\n",
      "prefix : sd\n",
      "data-type : CLR\n",
      "depth : 50.000000\n",
      "length-mean : 3000.000000\n",
      "length-sd : 2300.000000\n",
      "length-min : 10000\n",
      "length-max : 30000\n",
      "accuracy-mean : 0.780000\n",
      "accuracy-sd : 0.020000\n",
      "accuracy-min : 0.750000\n",
      "accuracy-max : 1.000000\n",
      "difference-ratio : 0:0:0\n",
      "\n",
      "!! ref file /media/anuradhawick/data/Experiments/Assembly Graph/Assembly/Sample Genomes/e.coli.fasta\n",
      ":::: Reference stats ::::\n",
      "\n",
      "file name : /media/anuradhawick/data/Experiments/Assembly Graph/Assembly/Sample Genomes/e.coli.fasta\n",
      "\n",
      "ref.1 (len:5231428) : AE014075.1 Escherichia coli CFT073, complete genome\n",
      "\n",
      ":::: Simulation stats (ref.1 - name: AE014075.1 Escherichia coli CFT073, complete genome) ::::\n",
      "\n",
      "read num. : 20074\n",
      "depth : 50.000872\n",
      "read length mean (SD) : 13030.584836 (3169.437169)\n",
      "read length min : 10000\n",
      "read length max : 29879\n",
      "read accuracy mean (SD) : 0.781598 (0.018261)\n",
      "substitution rate. : 0.000000\n",
      "insertion rate. : 0.000000\n",
      "deletion rate. : 0.000000\n",
      "\n",
      ":::: System utilization ::::\n",
      "\n",
      "CPU time(s) : 10\n",
      "Elapsed time(s) : 11\n"
     ]
    }
   ],
   "source": [
    "![ -e 'Sampled_Reads_EColi' ] && rm -r 'Sampled_Reads_EColi'\n",
    "!mkdir 'Sampled_Reads_EColi'\n",
    "\n",
    "!cd 'Sampled Reads EColi' && pbsim \\\n",
    "--data-type CLR \\\n",
    "--depth 50 \\\n",
    "--model_qc /media/anuradhawick/data/Tools/PBSIM-PacBio-Simulator/data/model_qc_clr \\\n",
    "--length-min 10000 \\\n",
    "--length-max 30000 \\\n",
    "--difference-ratio 0:0:0 \\\n",
    "'/media/anuradhawick/data/Experiments/Assembly_Graph/Assembly/Sample_Genomes/e.coli.fasta'"
   ]
  },
  {
   "cell_type": "markdown",
   "metadata": {},
   "source": [
    "# Generating reads from Human Chr22"
   ]
  },
  {
   "cell_type": "code",
   "execution_count": 14,
   "metadata": {
    "scrolled": false
   },
   "outputs": [
    {
     "name": "stdout",
     "output_type": "stream",
     "text": [
      "N Count = 0\n",
      "COMPLETED\n",
      ":::: Simulation parameters :::\n",
      "\n",
      "Simulated by stochastic model.\n",
      "\n",
      "prefix : sd\n",
      "data-type : CLR\n",
      "depth : 50.000000\n",
      "length-mean : 3000.000000\n",
      "length-sd : 2300.000000\n",
      "length-min : 20000\n",
      "length-max : 30000\n",
      "accuracy-mean : 0.780000\n",
      "accuracy-sd : 0.020000\n",
      "accuracy-min : 0.750000\n",
      "accuracy-max : 1.000000\n",
      "difference-ratio : 0:0:0\n",
      "\n",
      "!! ref file /media/anuradhawick/data/Experiments/Assembly Graph/Assembly/Sample Genomes/chr22_5mb.fa\n",
      ":::: Reference stats ::::\n",
      "\n",
      "file name : /media/anuradhawick/data/Experiments/Assembly Graph/Assembly/Sample Genomes/chr22_5mb.fa\n",
      "\n",
      "ref.1 (len:5000000) : >chr22 Chromosome 22 5mb\n",
      "\n",
      ":::: Simulation stats (ref.1 - name: >chr22 Chromosome 22 5mb) ::::\n",
      "\n",
      "read num. : 10791\n",
      "depth : 50.003845\n",
      "read length mean (SD) : 23169.235752 (2597.060978)\n",
      "read length min : 20000\n",
      "read length max : 29903\n",
      "read accuracy mean (SD) : 0.781409 (0.018173)\n",
      "substitution rate. : 0.000000\n",
      "insertion rate. : 0.000000\n",
      "deletion rate. : 0.000000\n",
      "\n",
      ":::: System utilization ::::\n",
      "\n",
      "CPU time(s) : 9\n",
      "Elapsed time(s) : 11\n"
     ]
    }
   ],
   "source": [
    "![ -e 'Sampled_Reads_Chr22' ] && rm -r 'Sampled_Reads_Chr22'\n",
    "!mkdir 'Sampled_Reads_Chr22'\n",
    "\n",
    "fa_file = ''\n",
    "with open('/media/anuradhawick/data/Experiments/Assembly_Graph/Assembly/Sample_Genomes/chr22.fa', 'r') as f:\n",
    "    ls = f.read().split()\n",
    "    name = ls.pop(0)\n",
    "    \n",
    "    g0 = ''.join(ls)\n",
    "    \n",
    "    g = g0[25000000:30000000]\n",
    "    \n",
    "    count_N = g.count('N')\n",
    "    \n",
    "    print(\"N Count = \" + str(count_N))\n",
    "    \n",
    "    record1 = SeqRecord(Seq(g, DNAAlphabet), id=name, description=\"Chromosome 22 5mb\")\n",
    "    SeqIO.write(record1, \"/media/anuradhawick/data/Experiments/Assembly_Graph/Assembly/Sample_Genomes/chr22_5mb.fa\", \"fasta\")\n",
    "\n",
    "print(\"COMPLETED\")\n",
    "\n",
    "!cd 'Sampled_Reads_Chr22' && pbsim \\\n",
    "--data-type CLR \\\n",
    "--depth 50 \\\n",
    "--model_qc /media/anuradhawick/data/Tools/PBSIM-PacBio-Simulator/data/model_qc_clr \\\n",
    "--length-min 20000 \\\n",
    "--length-max 30000 \\\n",
    "--difference-ratio 0:0:0 \\\n",
    "'/media/anuradhawick/data/Experiments/Assembly_Graph/Assembly/Sample_Genomes/chr22_5mb.fa'"
   ]
  },
  {
   "cell_type": "markdown",
   "metadata": {},
   "source": [
    "# Generating reads from Yeast Genome"
   ]
  },
  {
   "cell_type": "code",
   "execution_count": 23,
   "metadata": {},
   "outputs": [
    {
     "name": "stdout",
     "output_type": "stream",
     "text": [
      ":::: Simulation parameters :::\n",
      "\n",
      "Simulated by stochastic model.\n",
      "\n",
      "prefix : sd\n",
      "data-type : CLR\n",
      "depth : 50.000000\n",
      "length-mean : 3000.000000\n",
      "length-sd : 2300.000000\n",
      "length-min : 20000\n",
      "length-max : 30000\n",
      "accuracy-mean : 0.780000\n",
      "accuracy-sd : 0.020000\n",
      "accuracy-min : 0.750000\n",
      "accuracy-max : 1.000000\n",
      "difference-ratio : 0:0:0\n",
      "\n",
      "!! ref file /media/anuradhawick/data/Experiments/Assembly_Graph/Assembly/Sample_Genomes/yeast/YeastGenome.fa\n",
      ":::: Reference stats ::::\n",
      "\n",
      "file name : /media/anuradhawick/data/Experiments/Assembly_Graph/Assembly/Sample_Genomes/yeast/YeastGenome.fa\n",
      "\n",
      "ref.1 (len:12157105) : YeastGenome Complete Yeast Genome\n",
      "\n",
      ":::: Simulation stats (ref.1 - name: YeastGenome Complete Yeast Genome) ::::\n",
      "\n",
      "read num. : 26277\n",
      "depth : 50.000218\n",
      "read length mean (SD) : 23132.697987 (2557.293961)\n",
      "read length min : 20000\n",
      "read length max : 29903\n",
      "read accuracy mean (SD) : 0.781396 (0.018077)\n",
      "substitution rate. : 0.000000\n",
      "insertion rate. : 0.000000\n",
      "deletion rate. : 0.000000\n",
      "\n",
      ":::: System utilization ::::\n",
      "\n",
      "CPU time(s) : 24\n",
      "Elapsed time(s) : 27\n"
     ]
    }
   ],
   "source": [
    "![ -e 'Sampled_Reads_Yeast' ] && rm -r 'Sampled_Reads_Yeast'\n",
    "!mkdir 'Sampled_Reads_Yeast'\n",
    "\n",
    "file_list = list(glob.glob(\"/media/anuradhawick/data/Experiments/Assembly_Graph/Assembly/Sample_Genomes/yeast/chr*.fa\"))\n",
    "genome = \"\"\n",
    "\n",
    "for f in file_list:\n",
    "    with open(f, 'r') as fopen:\n",
    "        content = fopen.read()\n",
    "        content = content.strip().split()\n",
    "        content.pop(0)\n",
    "        content = \"\".join(content)\n",
    "        genome += content\n",
    "        \n",
    "record = SeqRecord(Seq(genome, DNAAlphabet), id=\"YeastGenome\", description=\"Complete Yeast Genome\")\n",
    "SeqIO.write(record, \"./Sample_Genomes/yeast/YeastGenome.fa\", \"fasta\")\n",
    "\n",
    "!cd 'Sampled_Reads_Yeast' && pbsim \\\n",
    "--data-type CLR \\\n",
    "--depth 50 \\\n",
    "--model_qc /media/anuradhawick/data/Tools/PBSIM-PacBio-Simulator/data/model_qc_clr \\\n",
    "--length-min 20000 \\\n",
    "--length-max 30000 \\\n",
    "--difference-ratio 0:0:0 \\\n",
    "'/media/anuradhawick/data/Experiments/Assembly_Graph/Assembly/Sample_Genomes/yeast/YeastGenome.fa'"
   ]
  }
 ],
 "metadata": {
  "celltoolbar": "Raw Cell Format",
  "kernelspec": {
   "display_name": "Python 3",
   "language": "python",
   "name": "python3"
  },
  "language_info": {
   "codemirror_mode": {
    "name": "ipython",
    "version": 3
   },
   "file_extension": ".py",
   "mimetype": "text/x-python",
   "name": "python",
   "nbconvert_exporter": "python",
   "pygments_lexer": "ipython3",
   "version": "3.6.5"
  }
 },
 "nbformat": 4,
 "nbformat_minor": 2
}
