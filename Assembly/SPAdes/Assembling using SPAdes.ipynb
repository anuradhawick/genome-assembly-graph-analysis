{
 "cells": [
  {
   "cell_type": "markdown",
   "metadata": {},
   "source": [
    "# Running Assembly Using SPAdes"
   ]
  },
  {
   "cell_type": "code",
   "execution_count": 41,
   "metadata": {
    "scrolled": true
   },
   "outputs": [
    {
     "name": "stdout",
     "output_type": "stream",
     "text": [
      "\r\n",
      "\r\n",
      "== Error ==  you should specify at least one unpaired, paired-end, or high-quality mate-pairs library!\r\n",
      "\r\n",
      "\r\n",
      "In case you have troubles running SPAdes, you can write to spades.support@cab.spbu.ru\r\n",
      "or report an issue on our GitHub repository github.com/ablab/spades\r\n",
      "Please provide us with params.txt and spades.log files from the output directory.\r\n"
     ]
    }
   ],
   "source": [
    "![ -e 'Out SPAdes' ] && rm -r 'Out SPAdes'\n",
    "!mkdir 'Out SPAdes'\n",
    "\n",
    "!/media/anuradhawick/data/Tools/SPAdes-3.13.0-Linux/bin/spades.py \\\n",
    "--pacbio '/media/anuradhawick/data/Experiments/Assembly Graph/Sampled Reads/sd_ccs_0001.fastq.gz' \\\n",
    "-o 'Out SPAdes' \\\n",
    "--phred-offset 33 \\\n",
    "-m 10"
   ]
  },
  {
   "cell_type": "markdown",
   "metadata": {},
   "source": [
    "### Gives an ERROR \n",
    "\n",
    "`== Error ==  you should specify at least one unpaired, paired-end, or high-quality mate-pairs library!`\n",
    "\n",
    " <span style=\"color:red\">Experiment suspended until a satisfactory solution will be found</span>"
   ]
  }
 ],
 "metadata": {
  "kernelspec": {
   "display_name": "Python 3",
   "language": "python",
   "name": "python3"
  },
  "language_info": {
   "codemirror_mode": {
    "name": "ipython",
    "version": 3
   },
   "file_extension": ".py",
   "mimetype": "text/x-python",
   "name": "python",
   "nbconvert_exporter": "python",
   "pygments_lexer": "ipython3",
   "version": "3.6.5"
  }
 },
 "nbformat": 4,
 "nbformat_minor": 2
}
