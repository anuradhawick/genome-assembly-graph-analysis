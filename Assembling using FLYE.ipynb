{
 "cells": [
  {
   "cell_type": "markdown",
   "metadata": {},
   "source": [
    "# Running Assembly Using FLYE"
   ]
  },
  {
   "cell_type": "code",
   "execution_count": null,
   "metadata": {
    "scrolled": true
   },
   "outputs": [
    {
     "name": "stdout",
     "output_type": "stream",
     "text": [
      "[2018-11-05 12:37:21] INFO: Running Flye 2.3.6-release\n",
      "[2018-11-05 12:37:21] INFO: Configuring run\n",
      "[2018-11-05 12:37:36] INFO: Input genome size: 10000000\n",
      "[2018-11-05 12:37:36] INFO: Estimated coverage: 200\n",
      "[2018-11-05 12:37:36] INFO: Reads N50/N90: 12558 / 10377\n",
      "[2018-11-05 12:37:36] INFO: Minimum overlap set to 5000\n",
      "[2018-11-05 12:37:36] INFO: Selected k-mer size: 15\n",
      "[2018-11-05 12:37:36] INFO: Assembling reads\n",
      "[2018-11-05 12:37:36] INFO: Reading sequences\n",
      "[2018-11-05 12:37:41] INFO: Generating solid k-mer index\n",
      "[2018-11-05 12:37:53] INFO: Counting kmers (1/2):\n",
      "0% 10% 20% 30% 40% 50% 60% 70% 80% 90% 100% \n",
      "[2018-11-05 12:41:28] INFO: Counting kmers (2/2):\n",
      "0% 10% 20% 30% 40% 50% 60% 70% 80% 90% 100% \n",
      "[2018-11-05 12:48:41] INFO: Filling index table\n",
      "0% 10% 20% 30% 40% 50% 60% 70% 80% 90% 100% \n",
      "[2018-11-05 12:55:27] INFO: Extending reads\n",
      "[2018-11-05 12:58:23] INFO: Overlap-based coverage: 89\n",
      "[2018-11-05 12:58:23] INFO: Median overlap divergence: 5.71006e-05\n",
      "0% 10% 20% 30% 40% 50% 60% 70% 80% 90% 100% \n",
      "[2018-11-05 13:33:24] INFO: Assembled 210 draft contigs\n",
      "[2018-11-05 13:33:24] INFO: Generating contig sequences\n",
      "0% "
     ]
    }
   ],
   "source": [
    "!/media/anuradhawick/data/Tools/Flye-2.3.6/bin/flye \\\n",
    "--pacbio-raw 'Sampled Reads/sd_0001.fastq' 'Sampled Reads/sd_0002.fastq' 'Sampled Reads/sd_0003.fastq' 'Sampled Reads/sd_0004.fastq' \\\n",
    "--out-dir 'Out FLYE' \\\n",
    "--genome-size 10m"
   ]
  }
 ],
 "metadata": {
  "kernelspec": {
   "display_name": "Python 3",
   "language": "python",
   "name": "python3"
  },
  "language_info": {
   "codemirror_mode": {
    "name": "ipython",
    "version": 3
   },
   "file_extension": ".py",
   "mimetype": "text/x-python",
   "name": "python",
   "nbconvert_exporter": "python",
   "pygments_lexer": "ipython3",
   "version": "3.6.5"
  }
 },
 "nbformat": 4,
 "nbformat_minor": 2
}
