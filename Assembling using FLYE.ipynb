{
 "cells": [
  {
   "cell_type": "markdown",
   "metadata": {},
   "source": [
    "# Running Assembly Using FLYE"
   ]
  },
  {
   "cell_type": "code",
   "execution_count": 1,
   "metadata": {
    "scrolled": false
   },
   "outputs": [
    {
     "name": "stdout",
     "output_type": "stream",
     "text": [
      "[2018-11-05 14:43:49] INFO: Running Flye 2.3.6-release\n",
      "[2018-11-05 14:43:49] INFO: Configuring run\n",
      "[2018-11-05 14:43:50] INFO: Input genome size: 5000000\n",
      "[2018-11-05 14:43:50] INFO: Estimated coverage: 200\n",
      "[2018-11-05 14:43:50] INFO: Reads N50/N90: 12541 / 10374\n",
      "[2018-11-05 14:43:50] INFO: Minimum overlap set to 5000\n",
      "[2018-11-05 14:43:50] INFO: Selected k-mer size: 15\n",
      "[2018-11-05 14:43:50] INFO: Assembling reads\n",
      "[2018-11-05 14:43:50] INFO: Reading sequences\n",
      "[2018-11-05 14:43:52] INFO: Generating solid k-mer index\n",
      "[2018-11-05 14:44:05] INFO: Counting kmers (1/2):\n",
      "0% 10% 20% 30% 40% 50% 60% 70% 80% 90% 100% \n",
      "[2018-11-05 14:45:57] INFO: Counting kmers (2/2):\n",
      "0% 10% 20% 30% 40% 50% 60% 70% 80% 90% 100% \n",
      "[2018-11-05 14:49:14] INFO: Filling index table\n",
      "0% 10% 20% 30% 40% 50% 60% 70% 80% 90% 100% \n",
      "[2018-11-05 14:52:23] INFO: Extending reads\n",
      "[2018-11-05 14:54:52] INFO: Overlap-based coverage: 90\n",
      "[2018-11-05 14:54:52] INFO: Median overlap divergence: 0.000971429\n",
      "0% 10% 20% 30% 40% 50% 60% 70% 80% 90% 100% \n",
      "[2018-11-05 15:04:08] INFO: Assembled 16 draft contigs\n",
      "[2018-11-05 15:04:08] INFO: Generating contig sequences\n",
      "0% 10% 20% 30% 40% 50% 60% 70% 80% 90% 100% \n",
      "[2018-11-05 15:12:26] INFO: Running Minimap2\n",
      "[2018-11-05 15:16:23] INFO: Computing consensus\n",
      "[2018-11-05 15:22:58] INFO: Alignment error rate: 8.54196583985e-08\n",
      "[2018-11-05 15:22:58] INFO: Performing repeat analysis\n",
      "[2018-11-05 15:22:58] INFO: Reading sequences\n",
      "[2018-11-05 15:23:00] INFO: Building repeat graph\n",
      "0% 10% 20% 30% 40% 50% 60% 70% 80% 90% 100% \n",
      "[2018-11-05 15:23:27] INFO: Median overlap divergence: 0\n",
      "[2018-11-05 15:23:27] INFO: Aligning reads to the graph\n",
      "0% 10% 20% 30% 40% 50% 60% 70% 80% 90% 100% \n",
      "[2018-11-05 15:38:50] INFO: Aligned read sequence: 999743490 / 1000007361 (0.999736)\n",
      "[2018-11-05 15:38:50] INFO: Median overlap divergence: 0\n",
      "[2018-11-05 15:38:50] INFO: Mean edge coverage: 80\n",
      "[2018-11-05 15:38:50] INFO: Resolving repeats\n",
      "[2018-11-05 15:38:50] INFO: Generating contigs\n",
      "[2018-11-05 15:38:50] INFO: Generated 6 contigs\n",
      "[2018-11-05 15:38:50] INFO: Polishing genome (1/1)\n",
      "[2018-11-05 15:38:50] INFO: Running minimap2\n",
      "[2018-11-05 15:42:36] INFO: Separating alignment into bubbles\n",
      "[2018-11-05 15:52:00] INFO: Alignment error rate: 5.7385008412e-08\n",
      "[2018-11-05 15:52:00] INFO: Correcting bubbles\n",
      "0% 10% 20% 30% 40% 50% 60% 70% 80% 90% 100% \n",
      "[2018-11-05 16:02:15] INFO: Assembly statistics:\n",
      "\n",
      "\tTotal length:\t12373759\n",
      "\tContigs:\t6\n",
      "\tScaffolds:\t6\n",
      "\tScaffolds N50:\t2249966\n",
      "\tLargest scf:\t2749473\n",
      "\tMean coverage:\t80\n",
      "\n",
      "[2018-11-05 16:02:15] INFO: Final assembly: /media/anuradhawick/data/Experiments/Assembly Graph/Out FLYE/scaffolds.fasta\n"
     ]
    }
   ],
   "source": [
    "![ -e 'Out FLYE' ] && rm -r 'Out FLYE'\n",
    "!mkdir 'Out FLYE'\n",
    "\n",
    "!/media/anuradhawick/data/Tools/Flye-2.3.6/bin/flye \\\n",
    "--pacbio-raw 'Sampled Reads/sd_0001.fastq' 'Sampled Reads/sd_0002.fastq' 'Sampled Reads/sd_0003.fastq' 'Sampled Reads/sd_0004.fastq' \\\n",
    "--out-dir 'Out FLYE' \\\n",
    "--genome-size 5m"
   ]
  },
  {
   "cell_type": "markdown",
   "metadata": {},
   "source": [
    "# Generating Assembly Graph"
   ]
  },
  {
   "cell_type": "code",
   "execution_count": 9,
   "metadata": {},
   "outputs": [
    {
     "name": "stdout",
     "output_type": "stream",
     "text": [
      "\r\n",
      "Bandage error: assembly_graph.gfa does not exist\r\n"
     ]
    }
   ],
   "source": [
    "!/media/anuradhawick/data/Tools/Bandage/Bandage_Ubuntu_dynamic_v0_8_1/Bandage \\\n",
    "image assembly_graph.gfa image_graph_flye.png"
   ]
  },
  {
   "cell_type": "markdown",
   "metadata": {},
   "source": [
    "![title](Out FLYE/image_graph.png)"
   ]
  }
 ],
 "metadata": {
  "kernelspec": {
   "display_name": "Python 3",
   "language": "python",
   "name": "python3"
  },
  "language_info": {
   "codemirror_mode": {
    "name": "ipython",
    "version": 3
   },
   "file_extension": ".py",
   "mimetype": "text/x-python",
   "name": "python",
   "nbconvert_exporter": "python",
   "pygments_lexer": "ipython3",
   "version": "3.6.5"
  }
 },
 "nbformat": 4,
 "nbformat_minor": 2
}
