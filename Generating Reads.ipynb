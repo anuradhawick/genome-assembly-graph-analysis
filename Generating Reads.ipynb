{
 "cells": [
  {
   "cell_type": "markdown",
   "metadata": {},
   "source": [
    "# Generating four genomes of same length (1Mbp)"
   ]
  },
  {
   "cell_type": "markdown",
   "metadata": {},
   "source": [
    "## Fragment Preparation\n",
    "\n",
    "The genomes contains 8 fragments R1 to R8\n",
    "* G1 = R1 R3 R3\n",
    "* G2 = R2 R1 R4\n",
    "* G3 = R5 R2 R6\n",
    "* G4 = R7 R8 R8 R1\n",
    "\n",
    "Sizes of each of the fragment\n",
    "* R1 = 400kbp\n",
    "* R2 = 300kbp\n",
    "* R3 = 300kbp\n",
    "* R4 = 300kbp\n",
    "* R5 = 250kbp\n",
    "* R6 = 450kbp\n",
    "* R7 = 350kbp\n",
    "* R8 = 125kbp\n",
    "\n",
    "## Fragment preparation function\n"
   ]
  },
  {
   "cell_type": "code",
   "execution_count": 8,
   "metadata": {},
   "outputs": [],
   "source": [
    "from random import choice\n",
    "\n",
    "def createFrag(size):\n",
    "    DNA = \"\"\n",
    "    for count in range(size):\n",
    "        DNA += choice(\"CGTA\")\n",
    "    return DNA"
   ]
  },
  {
   "cell_type": "code",
   "execution_count": 51,
   "metadata": {},
   "outputs": [],
   "source": [
    "R1 = createFrag(400 * 1000)\n",
    "R2 = createFrag(300 * 1000)\n",
    "R3 = createFrag(300 * 1000)\n",
    "R4 = createFrag(300 * 1000)\n",
    "R5 = createFrag(250 * 1000)\n",
    "R6 = createFrag(450 * 1000)\n",
    "R7 = createFrag(350 * 1000)\n",
    "R8 = createFrag(125 * 1000)\n",
    "\n",
    "G1 = R1 + R3 + R3\n",
    "G2 = R2 + R1 + R4\n",
    "G3 = R5 + R2 + R6\n",
    "G4 = R7 + R8 + R8 + R1"
   ]
  },
  {
   "cell_type": "markdown",
   "metadata": {},
   "source": [
    "## Create files for each genome"
   ]
  },
  {
   "cell_type": "code",
   "execution_count": 52,
   "metadata": {},
   "outputs": [
    {
     "data": {
      "text/plain": [
       "4"
      ]
     },
     "execution_count": 52,
     "metadata": {},
     "output_type": "execute_result"
    }
   ],
   "source": [
    "from Bio.Seq import Seq\n",
    "from Bio.SeqRecord import SeqRecord\n",
    "from Bio.Alphabet import DNAAlphabet\n",
    "from Bio import SeqIO\n",
    "\n",
    "# G1\n",
    "record1 = SeqRecord(Seq(G1, DNAAlphabet), id=\"G1\", description=\"Sample genome 1\")\n",
    "SeqIO.write(record1, \"./Sample Genomes/G1.fa\", \"fasta\")\n",
    "# G2\n",
    "record2 = SeqRecord(Seq(G2, DNAAlphabet), id=\"G2\", description=\"Sample genome 2\")\n",
    "SeqIO.write(record2, \"./Sample Genomes/G2.fa\", \"fasta\")\n",
    "# G3\n",
    "record3 = SeqRecord(Seq(G3, DNAAlphabet), id=\"G3\", description=\"Sample genome 3\")\n",
    "SeqIO.write(record3, \"./Sample Genomes/G3.fa\", \"fasta\")\n",
    "# G4\n",
    "record4 = SeqRecord(Seq(G4, DNAAlphabet), id=\"G4\", description=\"Sample genome 4\")\n",
    "SeqIO.write(record4, \"./Sample Genomes/G4.fa\", \"fasta\")\n",
    "\n",
    "SeqIO.write([record1, record2, record3, record4], \"./Sample Genomes/all-set.fa\", \"fasta\")"
   ]
  },
  {
   "cell_type": "markdown",
   "metadata": {},
   "source": [
    "## Creating Reads After Mixing Genomes"
   ]
  },
  {
   "cell_type": "code",
   "execution_count": 53,
   "metadata": {},
   "outputs": [
    {
     "name": "stdout",
     "output_type": "stream",
     "text": [
      ":::: Simulation parameters :::\n",
      "\n",
      "Simulated by fastq sampling.\n",
      "\n",
      "prefix : sd\n",
      "data-type : CLR\n",
      "depth : 25.000000\n",
      "length-mean : (sampling FASTQ)\n",
      "length-sd : (sampling FASTQ)\n",
      "length-min : 10000\n",
      "length-max : 30000\n",
      "accuracy-mean : (sampling FASTQ)\n",
      "accuracy-sd : (sampling FASTQ)\n",
      "accuracy-min : 0.750000\n",
      "accuracy-max : 1.000000\n",
      "difference-ratio : 10:60:30\n",
      "\n",
      ":::: FASTQ stats ::::\n",
      "\n",
      "file name : /media/anuradhawick/data/Tools/PBSIM-PacBio-Simulator/sample/sample.fastq\n",
      "\n",
      ":: all reads ::\n",
      "read num. : 1711\n",
      "read total length : 5154862\n",
      "read min length : 140\n",
      "read max length : 22539\n",
      "\n",
      ":: filtered reads ::\n",
      "read num. : 30\n",
      "read total length : 397677\n",
      "read min length : 10146\n",
      "read max length : 22539\n",
      "read length mean (SD) : 13255.900000 (3191.799047)\n",
      "read accuracy mean (SD) : 0.783918 (0.015961)\n",
      "\n",
      "!! ref file /media/anuradhawick/data/Experiments/Assembly Graph/Sample Genomes/all-set.fa\n",
      ":::: Reference stats ::::\n",
      "\n",
      "file name : /media/anuradhawick/data/Experiments/Assembly Graph/Sample Genomes/all-set.fa\n",
      "\n",
      "ref.1 (len:1000000) : G1 Sample genome 1\n",
      "ref.2 (len:1000000) : G2 Sample genome 2\n",
      "ref.3 (len:1000000) : G3 Sample genome 3\n",
      "ref.4 (len:1000000) : G4 Sample genome 4\n",
      "\n",
      ":::: Simulation stats (ref.1 - name: G1 Sample genome 1) ::::\n",
      "\n",
      "read num. : 1886\n",
      "depth : 25.000000\n",
      "read length mean (SD) : 13255.567338 (3189.751299)\n",
      "read length min : 10146\n",
      "read length max : 22539\n",
      "read accuracy mean (SD) : 0.783932 (0.015963)\n",
      "substitution rate. : 0.021587\n",
      "insertion rate. : 0.129729\n",
      "deletion rate. : 0.064898\n",
      "\n",
      ":::: Simulation stats (ref.2 - name: G2 Sample genome 2) ::::\n",
      "\n",
      "read num. : 1886\n",
      "depth : 25.000000\n",
      "read length mean (SD) : 13255.567338 (3189.751299)\n",
      "read length min : 10146\n",
      "read length max : 22539\n",
      "read accuracy mean (SD) : 0.783932 (0.015963)\n",
      "substitution rate. : 0.021663\n",
      "insertion rate. : 0.129854\n",
      "deletion rate. : 0.064906\n",
      "\n",
      ":::: Simulation stats (ref.3 - name: G3 Sample genome 3) ::::\n",
      "\n",
      "read num. : 1886\n",
      "depth : 25.008421\n",
      "read length mean (SD) : 13260.032344 (3194.014787)\n",
      "read length min : 10000\n",
      "read length max : 22539\n",
      "read accuracy mean (SD) : 0.783912 (0.015972)\n",
      "substitution rate. : 0.021656\n",
      "insertion rate. : 0.129794\n",
      "deletion rate. : 0.064858\n",
      "\n",
      ":::: Simulation stats (ref.4 - name: G4 Sample genome 4) ::::\n",
      "\n",
      "read num. : 1886\n",
      "depth : 25.008421\n",
      "read length mean (SD) : 13260.032344 (3194.014787)\n",
      "read length min : 10000\n",
      "read length max : 22539\n",
      "read accuracy mean (SD) : 0.783912 (0.015972)\n",
      "substitution rate. : 0.021553\n",
      "insertion rate. : 0.129814\n",
      "deletion rate. : 0.064847\n",
      "\n",
      ":::: System utilization ::::\n",
      "\n",
      "CPU time(s) : 3\n",
      "Elapsed time(s) : 4\n"
     ]
    }
   ],
   "source": [
    "!cd 'Sampled Reads' && \\\n",
    "/media/anuradhawick/data/Tools/PBSIM-PacBio-Simulator/src/pbsim \\\n",
    "--data-type CLR \\\n",
    "--depth 25 \\\n",
    "--sample-fastq /media/anuradhawick/data/Tools/PBSIM-PacBio-Simulator/sample/sample.fastq \\\n",
    "--length-min 10000 \\\n",
    "--length-max 30000 \\\n",
    "'/media/anuradhawick/data/Experiments/Assembly Graph/Sample Genomes/all-set.fa'"
   ]
  },
  {
   "cell_type": "code",
   "execution_count": 3,
   "metadata": {},
   "outputs": [
    {
     "name": "stdout",
     "output_type": "stream",
     "text": [
      "[2018-11-05 11:02:10] INFO: Running Flye 2.3.6-release\n",
      "[2018-11-05 11:02:10] INFO: Configuring run\n",
      "[2018-11-05 11:02:10] INFO: Input genome size: 1000000\n",
      "[2018-11-05 11:02:10] INFO: Estimated coverage: 100\n",
      "[2018-11-05 11:02:10] INFO: Reads N50/N90: 12544 / 10665\n",
      "[2018-11-05 11:02:10] INFO: Minimum overlap set to 1000\n",
      "[2018-11-05 11:02:10] INFO: Selected k-mer size: 31\n",
      "[2018-11-05 11:02:10] INFO: Assembling reads\n",
      "[2018-11-05 11:02:10] INFO: Reading sequences\n",
      "[2018-11-05 11:02:10] INFO: Generating solid k-mer index\n",
      "[2018-11-05 11:02:23] INFO: Counting kmers (1/2):\n",
      "0% 10% 20% 30% 40% 50% 60% 70% 80% 90% 100% \n",
      "[2018-11-05 11:02:24] INFO: Counting kmers (2/2):\n",
      "0% 10% 20% 30% 40% 50% 60% 70% 80% 90% 100% \n",
      "[2018-11-05 11:02:26] INFO: Filling index table\n",
      "0% 10% 20% 30% 40% 50% 60% 70% 80% 90% 100% \n",
      "[2018-11-05 11:02:32] INFO: Extending reads\n",
      "[2018-11-05 11:02:36] WARNING: No overlaps found!\n",
      "[2018-11-05 11:02:36] INFO: Overlap-based coverage: 0\n",
      "[2018-11-05 11:02:36] INFO: Median overlap divergence: 0\n",
      "0% 10% 20% 30% 40% 50% 60% 70% 80% 90% 100% \n",
      "[2018-11-05 11:03:10] INFO: Added 7544 singleton reads\n",
      "[2018-11-05 11:03:10] INFO: Assembled 7544 draft contigs\n",
      "[2018-11-05 11:03:10] INFO: Generating contig sequences\n",
      "[2018-11-05 11:03:11] INFO: Performing repeat analysis\n",
      "[2018-11-05 11:03:11] INFO: Reading sequences\n",
      "[2018-11-05 11:03:12] INFO: Building repeat graph\n",
      "0% 10% 20% 30% 40% 50% 60% 70% 80% 90% 100% \n",
      "[2018-11-05 11:04:59] INFO: Median overlap divergence: 0\n",
      "[2018-11-05 11:05:00] INFO: Aligning reads to the graph\n",
      "0% 10% 20% 30% 40% 50% 60% 70% 80% 90% 100% \n",
      "[2018-11-05 11:06:21] INFO: Aligned read sequence: 99966609 / 100016842 (0.999498)\n",
      "[2018-11-05 11:06:21] INFO: Median overlap divergence: 0\n",
      "[2018-11-05 11:06:22] INFO: Mean edge coverage: 1\n",
      "[2018-11-05 11:06:23] INFO: Resolving repeats\n",
      "[2018-11-05 11:06:24] INFO: Generating contigs\n",
      "[2018-11-05 11:06:24] INFO: Generated 7544 contigs\n",
      "[2018-11-05 11:06:27] INFO: Polishing genome (1/1)\n",
      "[2018-11-05 11:06:27] INFO: Running minimap2\n",
      "[2018-11-05 11:06:36] INFO: Separating alignment into bubbles\n",
      "[2018-11-05 11:07:39] INFO: Alignment error rate: 0.0\n",
      "[2018-11-05 11:07:39] INFO: Correcting bubbles\n",
      "0% 10% 20% 30% 40% 50% 60% 70% 80% 90% 100% \n",
      "[2018-11-05 11:08:23] INFO: Assembly statistics:\n",
      "\n",
      "\tTotal length:\t100009298\n",
      "\tContigs:\t7544\n",
      "\tScaffolds:\t7544\n",
      "\tScaffolds N50:\t12543\n",
      "\tLargest scf:\t22538\n",
      "\tMean coverage:\t1\n",
      "\n",
      "[2018-11-05 11:08:23] INFO: Final assembly: /media/anuradhawick/data/Experiments/Assembly Graph/Out Pacbio/scaffolds.fasta\n"
     ]
    }
   ],
   "source": [
    "!/media/anuradhawick/data/Tools/Flye-2.3.6/bin/flye \\\n",
    "--subassemblies 'Sampled Reads/sd_0001.fastq' 'Sampled Reads/sd_0002.fastq' 'Sampled Reads/sd_0003.fastq' 'Sampled Reads/sd_0004.fastq' \\\n",
    "--out-dir 'Out Pacbio' \\\n",
    "--genome-size 1m \\\n",
    "--threads 16"
   ]
  }
 ],
 "metadata": {
  "celltoolbar": "Raw Cell Format",
  "kernelspec": {
   "display_name": "Python 3",
   "language": "python",
   "name": "python3"
  },
  "language_info": {
   "codemirror_mode": {
    "name": "ipython",
    "version": 3
   },
   "file_extension": ".py",
   "mimetype": "text/x-python",
   "name": "python",
   "nbconvert_exporter": "python",
   "pygments_lexer": "ipython3",
   "version": "3.6.5"
  }
 },
 "nbformat": 4,
 "nbformat_minor": 2
}
